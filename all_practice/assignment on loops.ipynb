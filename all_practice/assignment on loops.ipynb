{
 "cells": [
  {
   "cell_type": "code",
   "execution_count": 2,
   "id": "8ed57c55-937d-4a63-afb3-d94732618792",
   "metadata": {},
   "outputs": [
    {
     "name": "stdin",
     "output_type": "stream",
     "text": [
      "please enter an number to check if it is positive number or not 24\n"
     ]
    },
    {
     "name": "stdout",
     "output_type": "stream",
     "text": [
      "24  is positive number\n"
     ]
    }
   ],
   "source": [
    "'''Lesson 2.1: Conditional Statements\n",
    "Assignment 1: Simple if Statement\n",
    "#Write a program that asks the user to input a number and prints whether the number is positive.\n",
    "'''\n",
    "x = int(input(\"please enter an number to check if it is positive number or not\"))\n",
    "\n",
    "if(x<0):\n",
    " print(x,\"is negative number\")\n",
    "else:\n",
    " print(x,\" is positive number\")"
   ]
  },
  {
   "cell_type": "code",
   "execution_count": 5,
   "id": "01a66252-1176-4b07-b09c-5e92e46302d5",
   "metadata": {},
   "outputs": [
    {
     "name": "stdin",
     "output_type": "stream",
     "text": [
      " please write enter an number to check if it is positive,negative, or zero  0\n"
     ]
    },
    {
     "name": "stdout",
     "output_type": "stream",
     "text": [
      "zero number: 0\n"
     ]
    }
   ],
   "source": [
    "'''\n",
    "Assignment 3: if-elif-else Statement\n",
    "Write a program that asks the user to input a number and prints whether the number is positive,\n",
    "negative, or zero.\n",
    "'''\n",
    "x=int(input(\" please write enter an number to check if it is positive,negative, or zero \"))\n",
    "if(x>0):\n",
    "    print(\"positive number:\",x)\n",
    "elif(x==0):\n",
    "    print(\"zero number:\",x)\n",
    "else:\n",
    "    print(\"negative number:\",x)\n",
    "    \n",
    "    "
   ]
  },
  {
   "cell_type": "code",
   "execution_count": 4,
   "id": "a4c2204d-a0dd-4315-805f-c566c115f3a2",
   "metadata": {},
   "outputs": [
    {
     "name": "stdin",
     "output_type": "stream",
     "text": [
      "please write an integer to check if it even,odd,positive,negative with nested loop 3\n"
     ]
    },
    {
     "name": "stdout",
     "output_type": "stream",
     "text": [
      "odd\n"
     ]
    }
   ],
   "source": [
    "x=int(input(\"please write an integer to check if it even,odd,positive,negative with nested loop\"))\n",
    "if(x%2==0):\n",
    "    print(\"even\")\n",
    "else:\n",
    "    print(\"odd\")\n",
    "if"
   ]
  },
  {
   "cell_type": "code",
   "execution_count": 5,
   "id": "574b06b1-c18f-4009-9a6a-8e83e4fe0a1e",
   "metadata": {},
   "outputs": [
    {
     "name": "stdout",
     "output_type": "stream",
     "text": [
      "Outer loop iteration: 1\n",
      "  Inner loop iteration: 1\n",
      "  Inner loop iteration: 2\n",
      "Outer loop iteration: 2\n",
      "  Inner loop iteration: 1\n",
      "  Inner loop iteration: 2\n",
      "Outer loop iteration: 3\n",
      "  Inner loop iteration: 1\n",
      "  Inner loop iteration: 2\n"
     ]
    }
   ],
   "source": [
    "# Outer loop\n",
    "for i in range(3):  # This loop will run 3 times\n",
    "    print(f\"Outer loop iteration: {i + 1}\")\n",
    "    \n",
    "    # Inner loop\n",
    "    for j in range(2):  # This loop will run 2 times for each iteration of the outer loop\n",
    "        print(f\"  Inner loop iteration: {j + 1}\")\n"
   ]
  },
  {
   "cell_type": "code",
   "execution_count": 11,
   "id": "e7745f02-bc6a-46c0-aa29-ec4114772d6c",
   "metadata": {},
   "outputs": [
    {
     "ename": "NameError",
     "evalue": "name 'f' is not defined",
     "output_type": "error",
     "traceback": [
      "\u001b[1;31m---------------------------------------------------------------------------\u001b[0m",
      "\u001b[1;31mNameError\u001b[0m                                 Traceback (most recent call last)",
      "Cell \u001b[1;32mIn[11], line 2\u001b[0m\n\u001b[0;32m      1\u001b[0m \u001b[38;5;28;01mfor\u001b[39;00m i \u001b[38;5;129;01min\u001b[39;00m \u001b[38;5;28mrange\u001b[39m(\u001b[38;5;241m10\u001b[39m):\n\u001b[1;32m----> 2\u001b[0m     \u001b[38;5;28mprint\u001b[39m(f,)\n",
      "\u001b[1;31mNameError\u001b[0m: name 'f' is not defined"
     ]
    }
   ],
   "source": [
    "for i in range(10):\n",
    "    print(f,)"
   ]
  },
  {
   "cell_type": "code",
   "execution_count": 14,
   "id": "8fcf9d4e-adc7-401b-a5b3-08b191d8730c",
   "metadata": {},
   "outputs": [
    {
     "name": "stdout",
     "output_type": "stream",
     "text": [
      "Outer loop iteration: 1\n",
      "Outer loop iteration: 2\n",
      "Outer loop iteration: 3\n"
     ]
    }
   ],
   "source": [
    "for i in range(3):  # This loop will run 3 times\n",
    "    print(f\"Outer loop iteration: {i + 1}\")\n",
    "    "
   ]
  },
  {
   "cell_type": "code",
   "execution_count": 1,
   "id": "c2fc83c9-38fc-4469-b7b6-392c98c7c8da",
   "metadata": {},
   "outputs": [
    {
     "name": "stdout",
     "output_type": "stream",
     "text": [
      "0\n",
      "0\n",
      "1\n",
      "2\n",
      "3\n",
      "4\n",
      "1\n",
      "0\n",
      "1\n",
      "2\n",
      "3\n",
      "4\n",
      "2\n",
      "0\n",
      "1\n",
      "2\n",
      "3\n",
      "4\n"
     ]
    }
   ],
   "source": [
    "for i in range(3):\n",
    "    print(i)\n",
    "    for j in range(5):\n",
    "        print(j)"
   ]
  },
  {
   "cell_type": "code",
   "execution_count": null,
   "id": "bb387a24-7af5-44e6-8f17-81648126dc25",
   "metadata": {},
   "outputs": [],
   "source": []
  },
  {
   "cell_type": "code",
   "execution_count": 48,
   "id": "4dbe582f-4472-4ba8-bdd7-a02ff7af36ac",
   "metadata": {},
   "outputs": [
    {
     "name": "stdin",
     "output_type": "stream",
     "text": [
      "please enter an number to check whether it is positive and even and positive and odd 0r negative -2\n"
     ]
    },
    {
     "name": "stdout",
     "output_type": "stream",
     "text": [
      "-2 negative\n"
     ]
    },
    {
     "data": {
      "text/plain": [
       "'\\nif(x<=0):\\n print(x,\"positive\")\\nelse:\\n print(x,\"negative\")\\n '"
      ]
     },
     "execution_count": 48,
     "metadata": {},
     "output_type": "execute_result"
    }
   ],
   "source": [
    "x=int(input(\"please enter an number to check whether it is positive and even and positive and odd 0r negative\"))\n",
    "if(x%2==0 and x>=0):\n",
    " print(x,\" even and postive\")\n",
    "if(x%2!=0 and x>=0):\n",
    " print(x,\" odd and postive\")\n",
    "else:\n",
    " print(x,\"negative\")\n",
    "\"\"\"\n",
    "if(x<=0):\n",
    " print(x,\"positive\")\n",
    "else:\n",
    " print(x,\"negative\")\n",
    " \"\"\""
   ]
  },
  {
   "cell_type": "code",
   "execution_count": 10,
   "id": "c2c7e655-38f2-49fe-be4f-f9199a8124ba",
   "metadata": {},
   "outputs": [
    {
     "name": "stdout",
     "output_type": "stream",
     "text": [
      "1\n",
      "2\n",
      "3\n",
      "4\n",
      "5\n",
      "6\n",
      "7\n",
      "8\n",
      "9\n",
      "10\n"
     ]
    }
   ],
   "source": [
    "# lesson 2.2:loops\n",
    "# Assignment 5: for Loop\n",
    "# Write a program that prints all the numbers from 1 to 10 using a for loop.\n",
    "\n",
    "\n",
    "for x in range(1,11):\n",
    " print(x)\n"
   ]
  },
  {
   "cell_type": "code",
   "execution_count": 1,
   "id": "3ab1c527-ce8c-4436-90c0-3a1cf5b60b49",
   "metadata": {},
   "outputs": [
    {
     "name": "stdout",
     "output_type": "stream",
     "text": [
      "0\n",
      "1\n",
      "2\n",
      "3\n",
      "4\n",
      "5\n"
     ]
    }
   ],
   "source": [
    "# Assignment 6: while Loop\n",
    "# Write a program that prints all the numbers from 1 to 10 using a while loop.\n",
    "x=0\n",
    "while x<6:\n",
    " print(x)\n",
    " x=x+1\n"
   ]
  },
  {
   "cell_type": "code",
   "execution_count": 2,
   "id": "85ce04ba-be64-42ef-a63c-d8a8ea778b10",
   "metadata": {},
   "outputs": [
    {
     "name": "stdout",
     "output_type": "stream",
     "text": [
      "0\n",
      "1\n",
      "2\n",
      "3\n",
      "4\n",
      "5\n",
      "6\n",
      "7\n",
      "8\n",
      "9\n"
     ]
    }
   ],
   "source": [
    "count = 0\n",
    "while count<10:\n",
    "    print(count)\n",
    "    count=count+1;"
   ]
  },
  {
   "cell_type": "code",
   "execution_count": 42,
   "id": "c276eb80-5f80-47ba-89ea-a973bb80e5f2",
   "metadata": {},
   "outputs": [
    {
     "name": "stdout",
     "output_type": "stream",
     "text": [
      "0\n",
      "012341\n",
      "012342\n",
      "012343\n",
      "012344\n",
      "012345\n",
      "01234"
     ]
    }
   ],
   "source": [
    "\"\"\"\n",
    "Assignment 7: Nested Loops\n",
    "Write a program that prints a 5x5 grid of asterisks (*) using nested loops.\n",
    "\"\"\"\n",
    "for column in range(5):\n",
    " print(column,)\n",
    " for row in range(5):\n",
    "  print(row,end=\"\")"
   ]
  },
  {
   "cell_type": "code",
   "execution_count": 34,
   "id": "1cb355e9-7af7-414a-a938-c248d255c1ea",
   "metadata": {},
   "outputs": [
    {
     "name": "stdout",
     "output_type": "stream",
     "text": [
      "hello world\n",
      "hello\n",
      "word\n"
     ]
    }
   ],
   "source": [
    "print(\"hello \",end=\"\")\n",
    "print(\"world\")\n",
    "print(\"hello\")\n",
    "print(\"word\")\n"
   ]
  },
  {
   "cell_type": "code",
   "execution_count": 2,
   "id": "02d349ce-7dbf-4157-8b49-f4feaf87a72b",
   "metadata": {},
   "outputs": [
    {
     "name": "stdout",
     "output_type": "stream",
     "text": [
      "* * * * * \n",
      "* * * * * \n",
      "* * * * * \n",
      "* * * * * \n",
      "* * * * * \n"
     ]
    }
   ],
   "source": [
    "for i in range(5):\n",
    "    for j in range(5):\n",
    "        print(\"*\", end=\" \")\n",
    "    print()      \n"
   ]
  },
  {
   "cell_type": "code",
   "execution_count": 67,
   "id": "90f3eb52-a2aa-4d04-b333-c4aa8e9cda48",
   "metadata": {},
   "outputs": [
    {
     "name": "stdout",
     "output_type": "stream",
     "text": [
      "0123456789\n"
     ]
    }
   ],
   "source": [
    "for i in range(10):\n",
    "    print(i,end=\"\")\n",
    "print()"
   ]
  },
  {
   "cell_type": "code",
   "execution_count": 7,
   "id": "4f37454b-ea46-4b27-a581-6cf00d949441",
   "metadata": {},
   "outputs": [
    {
     "name": "stdout",
     "output_type": "stream",
     "text": [
      "**********\n",
      "**********\n",
      "**********\n",
      "**********\n",
      "**********\n",
      "**********\n",
      "**********\n",
      "**********\n",
      "**********\n",
      "**********\n"
     ]
    }
   ],
   "source": [
    "for  column  in range(10):\n",
    "    for row in range(10):\n",
    "      print(\"*\",end=\"\")\n",
    "    print()"
   ]
  },
  {
   "cell_type": "code",
   "execution_count": 8,
   "id": "7875dddb-f753-43c4-803e-7db414c9d545",
   "metadata": {},
   "outputs": [
    {
     "name": "stdout",
     "output_type": "stream",
     "text": [
      "**********\n",
      "**********\n",
      "**********\n",
      "**********\n",
      "**********\n",
      "**********\n",
      "**********\n",
      "**********\n",
      "**********\n",
      "**********\n"
     ]
    }
   ],
   "source": [
    "for  column  in range(10):\n",
    "\tfor row in range(10):\n",
    "  \t\tprint(\"*\",end=\"\")\n",
    "\tprint()"
   ]
  },
  {
   "cell_type": "markdown",
   "id": "785e141b-3582-428a-9228-481a76bdd8d3",
   "metadata": {},
   "source": [
    "## Initialize a variable to store the sum\n",
    "total_sum = 0\n",
    "\n",
    "while True:\n",
    "    # Ask the user to input a number\n",
    "    number = float(input(\"Enter a number (0 to stop): \"))\n",
    "    \n",
    "    # Check if the number is 0\n",
    "    if number == 0:\n",
    "        break\n",
    "    \n",
    "    # Add the number to the total sum\n",
    "    total_sum += number\n",
    "\n",
    "# Print the sum of all the input numbers\n",
    "print(\"The sum of all the input numbers is:\", total_sum)\n"
   ]
  },
  {
   "cell_type": "code",
   "execution_count": null,
   "id": "61493a2b-c22c-48e6-9fd2-e1223f4121e0",
   "metadata": {},
   "outputs": [],
   "source": [
    "# i am gonna check whether number is even or odd\n",
    "x = int(input(\"please enter number\"))\n",
    "while x%2==0:\n",
    "    print(\"even\")\n",
    "    else :\n",
    "print(\"odd\")"
   ]
  },
  {
   "cell_type": "code",
   "execution_count": null,
   "id": "06ce0c2e-a2e1-491b-ab55-06d1c1eabaf6",
   "metadata": {},
   "outputs": [],
   "source": []
  }
 ],
 "metadata": {
  "kernelspec": {
   "display_name": "Python 3 (ipykernel)",
   "language": "python",
   "name": "python3"
  },
  "language_info": {
   "codemirror_mode": {
    "name": "ipython",
    "version": 3
   },
   "file_extension": ".py",
   "mimetype": "text/x-python",
   "name": "python",
   "nbconvert_exporter": "python",
   "pygments_lexer": "ipython3",
   "version": "3.12.3"
  }
 },
 "nbformat": 4,
 "nbformat_minor": 5
}
