{
 "cells": [
  {
   "cell_type": "code",
   "execution_count": null,
   "id": "69cb3c04-bb82-4f0b-8c4c-a1cd888b7559",
   "metadata": {},
   "outputs": [],
   "source": [
    "# while is a keyword to start a loop\n",
    "while condition true or false\n",
    "if condtion is true block code will execute number of times as long as "
   ]
  },
  {
   "cell_type": "code",
   "execution_count": null,
   "id": "32443368-a104-4fc9-966b-cc9fe78fa138",
   "metadata": {},
   "outputs": [],
   "source": []
  }
 ],
 "metadata": {
  "kernelspec": {
   "display_name": "Python 3 (ipykernel)",
   "language": "python",
   "name": "python3"
  },
  "language_info": {
   "codemirror_mode": {
    "name": "ipython",
    "version": 3
   },
   "file_extension": ".py",
   "mimetype": "text/x-python",
   "name": "python",
   "nbconvert_exporter": "python",
   "pygments_lexer": "ipython3",
   "version": "3.12.3"
  }
 },
 "nbformat": 4,
 "nbformat_minor": 5
}
