{
 "cells": [
  {
   "cell_type": "code",
   "execution_count": 14,
   "id": "0a19e75f-5dfb-4223-8bef-d3448c6d91e2",
   "metadata": {},
   "outputs": [
    {
     "name": "stdout",
     "output_type": "stream",
     "text": [
      "5 5\n"
     ]
    }
   ],
   "source": [
    "a = a\n",
    "b = a\n",
    "print (a,b)"
   ]
  },
  {
   "cell_type": "code",
   "execution_count": 15,
   "id": "58477e3a-99c9-4ccb-8188-7972f2585a96",
   "metadata": {},
   "outputs": [
    {
     "name": "stdout",
     "output_type": "stream",
     "text": [
      "a\n"
     ]
    }
   ],
   "source": [
    "name = \"a\"\n",
    "print(name)"
   ]
  },
  {
   "cell_type": "code",
   "execution_count": 16,
   "id": "2ff30884-ef0a-414c-aa6c-cdc28fc29054",
   "metadata": {},
   "outputs": [
    {
     "name": "stdout",
     "output_type": "stream",
     "text": [
      "ninja\n"
     ]
    }
   ],
   "source": [
    "name = \"ninja\"\n",
    "print(name)"
   ]
  },
  {
   "cell_type": "code",
   "execution_count": 18,
   "id": "074a10ff-7460-445a-9943-5319977ae273",
   "metadata": {},
   "outputs": [
    {
     "name": "stdout",
     "output_type": "stream",
     "text": [
      "0 0\n"
     ]
    }
   ],
   "source": [
    "a = 0\n",
    "b = 0\n",
    "print(a,b)"
   ]
  },
  {
   "cell_type": "code",
   "execution_count": 41,
   "id": "7feebd60-0238-4ffd-85ef-3e5342ecc0ec",
   "metadata": {},
   "outputs": [
    {
     "name": "stdin",
     "output_type": "stream",
     "text": [
      "what is your name yty\n"
     ]
    },
    {
     "name": "stdout",
     "output_type": "stream",
     "text": [
      "your name is yty\n"
     ]
    }
   ],
   "source": [
    "name= input(\"what is your name\")\n",
    "print(\"your name is \"+name)\n"
   ]
  },
  {
   "cell_type": "code",
   "execution_count": 42,
   "id": "ff093e39-53d0-496c-9031-c3d4c271a644",
   "metadata": {},
   "outputs": [
    {
     "name": "stdin",
     "output_type": "stream",
     "text": [
      "please enter first digits 5\n",
      "please enter second digits 2\n"
     ]
    },
    {
     "name": "stdout",
     "output_type": "stream",
     "text": [
      "5 is greater than 2\n"
     ]
    }
   ],
   "source": [
    "a=input(\"please enter first digits\")\n",
    "b=input(\"please enter second digits\")\n",
    "if(a>=b):\n",
    "   print(a,\"is greater than\", b)\n",
    "else:\n",
    "    print(b,\"is greater than\", a)"
   ]
  },
  {
   "cell_type": "code",
   "execution_count": null,
   "id": "4809860d-41e4-4a53-9e25-df7abe4eadf0",
   "metadata": {},
   "outputs": [],
   "source": []
  },
  {
   "cell_type": "code",
   "execution_count": null,
   "id": "5ef3c791-54e6-4a00-a6dc-9a5b149467eb",
   "metadata": {},
   "outputs": [],
   "source": []
  }
 ],
 "metadata": {
  "kernelspec": {
   "display_name": "Python 3 (ipykernel)",
   "language": "python",
   "name": "python3"
  },
  "language_info": {
   "codemirror_mode": {
    "name": "ipython",
    "version": 3
   },
   "file_extension": ".py",
   "mimetype": "text/x-python",
   "name": "python",
   "nbconvert_exporter": "python",
   "pygments_lexer": "ipython3",
   "version": "3.12.4"
  }
 },
 "nbformat": 4,
 "nbformat_minor": 5
}
