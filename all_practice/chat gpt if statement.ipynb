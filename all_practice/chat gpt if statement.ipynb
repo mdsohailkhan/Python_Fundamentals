{
 "cells": [
  {
   "cell_type": "code",
   "execution_count": 5,
   "id": "06dca559-8f60-4115-a6ec-5ab2495d4eab",
   "metadata": {},
   "outputs": [
    {
     "name": "stdin",
     "output_type": "stream",
     "text": [
      "please enter a number to check if it postive  34\n"
     ]
    },
    {
     "name": "stdout",
     "output_type": "stream",
     "text": [
      "positve: 34.0\n"
     ]
    }
   ],
   "source": [
    "\"\"\"\n",
    "Exercise 1: Basic If Statement\n",
    "Write a Python program that checks if a number stored in a variable x is positive. If it is positive, print \"x is positive\".\n",
    "\"\"\"\n",
    "number = float(input(\"please enter a number to check if it postive \"))\n",
    "if(number>0):\n",
    " print(\"positve:\",number)"
   ]
  },
  {
   "cell_type": "code",
   "execution_count": 8,
   "id": "f514ffa0-3b19-415f-a815-6a25ceedc8ff",
   "metadata": {},
   "outputs": [
    {
     "name": "stdin",
     "output_type": "stream",
     "text": [
      "please eneter and number to check if the number is even or odd 1\n"
     ]
    },
    {
     "name": "stdout",
     "output_type": "stream",
     "text": [
      "1.0 : is odd\n"
     ]
    }
   ],
   "source": [
    "\"\"\"\n",
    "Exercise 2: If-Else Statement\n",
    "Write a Python program that checks if a number stored in a variable y is even or odd. If it’s even, print \"y is even\". Otherwise, print \"y is odd\".\n",
    "\"\"\"\n",
    "y=float(input(\"please eneter and number to check if the number is even or odd\"))\n",
    "if(y%2==0):\n",
    "    print(y,\": is even\")\n",
    "else:\n",
    "    print(y,\": is odd\")\n",
    "    "
   ]
  },
  {
   "cell_type": "code",
   "execution_count": null,
   "id": "602e0b50-d73f-4c59-97cc-22da8ec709f0",
   "metadata": {},
   "outputs": [],
   "source": [
    "\"\"\"\n",
    "Eligibility for Voting:\n",
    "Write a program that checks if a person is eligible to vote. The voting age is 18.\n",
    "\"\"\"\n",
    "age = float(input(\"please enter your age to check whether your eligible to vote or not\"))\n",
    "if (age>18):\n",
    "    print(\"you can vote\")"
   ]
  },
  {
   "cell_type": "code",
   "execution_count": null,
   "id": "31cd8592-5f4e-46c0-8e4d-45e801de922c",
   "metadata": {},
   "outputs": [],
   "source": [
    "\"\"\"\n",
    "Grade Assignment:\n",
    "Write a program that assigns a grade (A, B, C, D, or F) based on a score provided by the user using if statements.\n",
    "\"\"\"\n",
    "\n",
    "score=float(input(\"please enter your score:  \"))\n",
    "if(score>=90):\n",
    "    print(\"A grade:\",score)\n",
    "elif(80<=score<=90):\n",
    "    print(\"B grade:\",score)\n",
    "elif(70<=score<=80):\n",
    "    print(\"C grade:\",score)\n",
    "elif(60<=score<=70):\n",
    "    print(\"D grade:\",score)\n",
    "elif(0<=score<=60):\n",
    "    print(\"F grade:\",score)"
   ]
  },
  {
   "cell_type": "code",
   "execution_count": null,
   "id": "8adb2568-b49f-4e1d-be29-468f590161b7",
   "metadata": {},
   "outputs": [],
   "source": []
  }
 ],
 "metadata": {
  "kernelspec": {
   "display_name": "Python 3 (ipykernel)",
   "language": "python",
   "name": "python3"
  },
  "language_info": {
   "codemirror_mode": {
    "name": "ipython",
    "version": 3
   },
   "file_extension": ".py",
   "mimetype": "text/x-python",
   "name": "python",
   "nbconvert_exporter": "python",
   "pygments_lexer": "ipython3",
   "version": "3.12.3"
  }
 },
 "nbformat": 4,
 "nbformat_minor": 5
}
