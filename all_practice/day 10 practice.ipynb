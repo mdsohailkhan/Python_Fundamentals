{
 "cells": [
  {
   "cell_type": "code",
   "execution_count": 30,
   "id": "2081788d-c1d2-4565-a31b-2db1a7449729",
   "metadata": {},
   "outputs": [
    {
     "name": "stdout",
     "output_type": "stream",
     "text": [
      "you can play board games\n"
     ]
    }
   ],
   "source": [
    "weather = \"sunn\"\n",
    "if(weather == \"sunny\"):\n",
    "    print(\" +eyou can play outside\")\n",
    "else:\n",
    "    print(\"you can play board games\")\n",
    "    "
   ]
  },
  {
   "cell_type": "code",
   "execution_count": 29,
   "id": "f930929f-5bba-464f-8479-b3eaa5e2d050",
   "metadata": {},
   "outputs": [
    {
     "ename": "SyntaxError",
     "evalue": "invalid syntax (1306768378.py, line 7)",
     "output_type": "error",
     "traceback": [
      "\u001b[1;36m  Cell \u001b[1;32mIn[29], line 7\u001b[1;36m\u001b[0m\n\u001b[1;33m    total purchase amount=int(input(\"total purchase amount\"))\u001b[0m\n\u001b[1;37m          ^\u001b[0m\n\u001b[1;31mSyntaxError\u001b[0m\u001b[1;31m:\u001b[0m invalid syntax\n"
     ]
    }
   ],
   "source": [
    "\"\"\"\n",
    "inputs\n",
    "total purchase amount = 100$\n",
    "customer gets 20$ discount\n",
    "\"\"\"\n",
    "\n",
    "total purchase amount=int(input(\"total purchase amount\"))\n",
    "if(total purchase amount >==100 and 20/total purchase amount*100):\n",
    " print(\"you will get 20% discount\")\n",
    "    \n",
    "\n",
    "print(type(total purchase amount))\n",
    "\n"
   ]
  },
  {
   "cell_type": "code",
   "execution_count": null,
   "id": "c8686b99-9079-43b1-bdbd-bd65c413d029",
   "metadata": {},
   "outputs": [],
   "source": [
    "                                                                                                                                                                                                                                                                                                                                                                                                                            "
   ]
  },
  {
   "cell_type": "code",
   "execution_count": null,
   "id": "cfe6e40b-ff90-4cea-a75b-b32697ba596c",
   "metadata": {},
   "outputs": [],
   "source": []
  },
  {
   "cell_type": "code",
   "execution_count": null,
   "id": "03f47560-f3c4-4925-b524-4e1076169a12",
   "metadata": {},
   "outputs": [],
   "source": []
  },
  {
   "cell_type": "code",
   "execution_count": null,
   "id": "3fc87322-ce33-43f0-b098-125c61fa06c7",
   "metadata": {},
   "outputs": [],
   "source": []
  },
  {
   "cell_type": "code",
   "execution_count": null,
   "id": "206f5475-dc41-42e8-a17a-5d4d8ddbeaea",
   "metadata": {},
   "outputs": [],
   "source": []
  }
 ],
 "metadata": {
  "kernelspec": {
   "display_name": "Python 3 (ipykernel)",
   "language": "python",
   "name": "python3"
  },
  "language_info": {
   "codemirror_mode": {
    "name": "ipython",
    "version": 3
   },
   "file_extension": ".py",
   "mimetype": "text/x-python",
   "name": "python",
   "nbconvert_exporter": "python",
   "pygments_lexer": "ipython3",
   "version": "3.12.3"
  }
 },
 "nbformat": 4,
 "nbformat_minor": 5
}
