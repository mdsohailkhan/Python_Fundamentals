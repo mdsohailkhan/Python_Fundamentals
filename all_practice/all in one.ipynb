{
 "cells": [
  {
   "cell_type": "code",
   "execution_count": 1,
   "id": "f10488e0-daac-4e02-a031-4e5433efdf65",
   "metadata": {},
   "outputs": [
    {
     "name": "stdout",
     "output_type": "stream",
     "text": [
      "hello world\n"
     ]
    }
   ],
   "source": [
    "# 1) data types or variables\n",
    "#print statement\n",
    "print(\"hello world\");\n"
   ]
  },
  {
   "cell_type": "code",
   "execution_count": null,
   "id": "e22effa5-f22e-48ff-a565-65f94b162374",
   "metadata": {},
   "outputs": [
    {
     "name": "stdout",
     "output_type": "stream",
     "text": [
      "khaja\n",
      "<class 'str'>\n"
     ]
    }
   ],
   "source": [
    "#string\n",
    "name = \"khaja\"\n",
    "print(name)\n",
    "print(type(name))"
   ]
  },
  {
   "cell_type": "code",
   "execution_count": null,
   "id": "101b26d4-cba3-4d05-b58e-db4b15c82f3e",
   "metadata": {},
   "outputs": [
    {
     "name": "stdout",
     "output_type": "stream",
     "text": [
      "25\n"
     ]
    }
   ],
   "source": [
    "#integer\n",
    "age = 25\n",
    "print(age)"
   ]
  },
  {
   "cell_type": "code",
   "execution_count": null,
   "id": "c1394908-8821-481a-b26b-487e7fba2cd0",
   "metadata": {},
   "outputs": [
    {
     "name": "stdout",
     "output_type": "stream",
     "text": [
      "5.8\n",
      "<class 'float'>\n"
     ]
    }
   ],
   "source": [
    "#float\n",
    "height = 5.8\n",
    "print(height)\n",
    "print(type(height))"
   ]
  },
  {
   "cell_type": "code",
   "execution_count": null,
   "id": "6b2c1dbb-ba7e-4cd9-9da6-2c14e96edc7c",
   "metadata": {},
   "outputs": [
    {
     "name": "stdout",
     "output_type": "stream",
     "text": [
      "True\n"
     ]
    }
   ],
   "source": [
    "#boolean\n",
    "are_you_a_teacher = True\n",
    "print(are_you_a_teacher)"
   ]
  },
  {
   "cell_type": "code",
   "execution_count": null,
   "id": "37571c0f-79ca-4081-af7b-524c911495b7",
   "metadata": {},
   "outputs": [
    {
     "name": "stdout",
     "output_type": "stream",
     "text": [
      "30\n",
      "0.8333333333333334\n",
      "11\n",
      "-1\n"
     ]
    }
   ],
   "source": [
    "x = 5\n",
    "y = 6\n",
    "print(x*y)\n",
    "print(x/y)\n",
    "print(x+y)\n",
    "print(x-y)\n"
   ]
  },
  {
   "cell_type": "code",
   "execution_count": null,
   "id": "ac64326e-f2af-448a-8c54-b5a2d0f846fd",
   "metadata": {},
   "outputs": [
    {
     "name": "stdout",
     "output_type": "stream",
     "text": [
      "apple\n",
      "<class 'list'>\n"
     ]
    }
   ],
   "source": [
    "# 2) data structure\n",
    "\n",
    "# list are mutable\n",
    "fruits = [\"apple\",\"banana\",\"pineapple\",\"orange\"]\n",
    "print(fruits[0])\n",
    "print(type(fruits))\n"
   ]
  },
  {
   "cell_type": "code",
   "execution_count": null,
   "id": "5bb4eddd-102a-4f69-88e1-88bbd6a626c4",
   "metadata": {},
   "outputs": [
    {
     "name": "stdout",
     "output_type": "stream",
     "text": [
      "10\n"
     ]
    }
   ],
   "source": [
    "# tuple\n",
    "cordinates = (10,20)\n",
    "print(cordinates[0])"
   ]
  },
  {
   "cell_type": "code",
   "execution_count": null,
   "id": "91c5a866-bd6d-42a0-af20-6a661cb7c6a4",
   "metadata": {},
   "outputs": [
    {
     "name": "stdout",
     "output_type": "stream",
     "text": [
      "2\n"
     ]
    }
   ],
   "source": [
    "''' list are mutable it means you add,edit,remove,\n",
    "'''\n",
    "fruits = [1,2,3,4,5,5]\n",
    "print(fruits[4])"
   ]
  },
  {
   "cell_type": "code",
   "execution_count": 22,
   "id": "81f28a5a-2f23-4129-bc61-cea11c99fd1f",
   "metadata": {},
   "outputs": [
    {
     "name": "stdout",
     "output_type": "stream",
     "text": [
      "[2]\n"
     ]
    }
   ],
   "source": [
    "cars=[\"bmw\", \"mercideis\" ,\"charcol\"]\n",
    "#print(cars[0])\n",
    "#print(type(cars)\n",
    "cars[0]=\"queen\"\n",
    "#print(cars[0])\n",
    "print([2])"
   ]
  },
  {
   "cell_type": "code",
   "execution_count": 11,
   "id": "9b97fc0c-3f8f-44ad-ab5c-431018204549",
   "metadata": {},
   "outputs": [
    {
     "ename": "SyntaxError",
     "evalue": "invalid syntax. Perhaps you forgot a comma? (22735552.py, line 9)",
     "output_type": "error",
     "traceback": [
      "\u001b[1;36m  Cell \u001b[1;32mIn[11], line 9\u001b[1;36m\u001b[0m\n\u001b[1;33m    cars.insert(0\"watermelon\")\u001b[0m\n\u001b[1;37m                ^\u001b[0m\n\u001b[1;31mSyntaxError\u001b[0m\u001b[1;31m:\u001b[0m invalid syntax. Perhaps you forgot a comma?\n"
     ]
    }
   ],
   "source": [
    "cars=[\"bmw\", \"mercideis\" ,\"charcol\",2,34,55,4.5,]\n",
    "#print(cars)\n",
    "print(cars[0:])\n",
    "print(cars[1:])\n",
    "cars[2:]=\"charcol\"\n",
    "cars\n",
    "cars.append(\"what's good my g\")\n",
    "print(cars)\n",
    "cars.insert(0\"watermelon\")\n",
    "print(cars)"
   ]
  },
  {
   "cell_type": "code",
   "execution_count": null,
   "id": "1a50548d-3cd2-4b68-8e78-72e30c17fd3e",
   "metadata": {},
   "outputs": [],
   "source": [
    "cars.append(\"what's good my g\")\n",
    "print(cars)"
   ]
  },
  {
   "cell_type": "code",
   "execution_count": 10,
   "id": "72a190a3-9aca-4c2c-ae82-1c7b46600fbd",
   "metadata": {},
   "outputs": [
    {
     "ename": "SyntaxError",
     "evalue": "invalid syntax. Perhaps you forgot a comma? (1652094438.py, line 1)",
     "output_type": "error",
     "traceback": [
      "\u001b[1;36m  Cell \u001b[1;32mIn[10], line 1\u001b[1;36m\u001b[0m\n\u001b[1;33m    cars.insert(0\"watermelon\")\u001b[0m\n\u001b[1;37m                ^\u001b[0m\n\u001b[1;31mSyntaxError\u001b[0m\u001b[1;31m:\u001b[0m invalid syntax. Perhaps you forgot a comma?\n"
     ]
    }
   ],
   "source": [
    "cars.insert(0\"watermelon\")\n",
    "print(cars)"
   ]
  },
  {
   "cell_type": "code",
   "execution_count": null,
   "id": "0316f3cf-0f92-40bf-b10e-42377554c064",
   "metadata": {},
   "outputs": [],
   "source": []
  },
  {
   "cell_type": "code",
   "execution_count": null,
   "id": "4d91cfd6-aff0-41a7-bed7-7c4bb6ac3574",
   "metadata": {},
   "outputs": [],
   "source": []
  },
  {
   "cell_type": "code",
   "execution_count": null,
   "id": "4e57eab4-4b29-4fcc-acb3-fb2766b00a6f",
   "metadata": {},
   "outputs": [],
   "source": []
  },
  {
   "cell_type": "code",
   "execution_count": null,
   "id": "4ad802cf-df31-49f3-ab64-d092da20e88c",
   "metadata": {},
   "outputs": [],
   "source": []
  },
  {
   "cell_type": "code",
   "execution_count": null,
   "id": "bb0a91e7-f832-4ee1-8f16-463050885c1f",
   "metadata": {},
   "outputs": [],
   "source": []
  }
 ],
 "metadata": {
  "kernelspec": {
   "display_name": "Python 3 (ipykernel)",
   "language": "python",
   "name": "python3"
  },
  "language_info": {
   "codemirror_mode": {
    "name": "ipython",
    "version": 3
   },
   "file_extension": ".py",
   "mimetype": "text/x-python",
   "name": "python",
   "nbconvert_exporter": "python",
   "pygments_lexer": "ipython3",
   "version": "3.12.4"
  }
 },
 "nbformat": 4,
 "nbformat_minor": 5
}
