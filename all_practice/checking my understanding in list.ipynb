{
 "cells": [
  {
   "cell_type": "code",
   "execution_count": 17,
   "id": "3cce89db-b218-4e2e-a6e1-60c524fb9fe0",
   "metadata": {},
   "outputs": [
    {
     "name": "stdout",
     "output_type": "stream",
     "text": [
      "[23, 4, 5, 556, 7, 6]\n"
     ]
    },
    {
     "data": {
      "text/plain": [
       "[23, 4, 5, 556, 7, 6, 1]"
      ]
     },
     "execution_count": 17,
     "metadata": {},
     "output_type": "execute_result"
    }
   ],
   "source": [
    "numbers=[23,4,5,556,7,6,]\n",
    "print(numbers)\n"
   ]
  },
  {
   "cell_type": "code",
   "execution_count": 9,
   "id": "183dc942-1930-4317-960a-048f0e49eb68",
   "metadata": {},
   "outputs": [
    {
     "data": {
      "text/plain": [
       "[23, 4]"
      ]
     },
     "execution_count": 9,
     "metadata": {},
     "output_type": "execute_result"
    }
   ],
   "source": [
    "numbers[:2]"
   ]
  },
  {
   "cell_type": "code",
   "execution_count": 18,
   "id": "7a85561c-8e94-4730-819f-37b2795fe684",
   "metadata": {},
   "outputs": [
    {
     "data": {
      "text/plain": [
       "[23, 4, 5, 556, 7, 6, 1, 1]"
      ]
     },
     "execution_count": 18,
     "metadata": {},
     "output_type": "execute_result"
    }
   ],
   "source": [
    "numbers.append(1)\n",
    "numbers"
   ]
  },
  {
   "cell_type": "code",
   "execution_count": 20,
   "id": "eefb8719-21c7-47a3-badf-b52e01919a6a",
   "metadata": {},
   "outputs": [
    {
     "data": {
      "text/plain": [
       "[23, 4, 5, 556, 7, 6]"
      ]
     },
     "execution_count": 20,
     "metadata": {},
     "output_type": "execute_result"
    }
   ],
   "source": [
    "numbers.remove(1)\n",
    "numbers"
   ]
  },
  {
   "cell_type": "code",
   "execution_count": 22,
   "id": "54d33265-3e95-437f-88e6-60a6a33991e1",
   "metadata": {},
   "outputs": [
    {
     "data": {
      "text/plain": [
       "5"
      ]
     },
     "execution_count": 22,
     "metadata": {},
     "output_type": "execute_result"
    }
   ],
   "source": [
    "numbers.pop(2)//index numbers"
   ]
  },
  {
   "cell_type": "code",
   "execution_count": 24,
   "id": "b5834668-4895-4965-9ec5-1f2468531a8a",
   "metadata": {},
   "outputs": [
    {
     "data": {
      "text/plain": [
       "[23, 4, 556, 7]"
      ]
     },
     "execution_count": 24,
     "metadata": {},
     "output_type": "execute_result"
    }
   ],
   "source": [
    "numbers"
   ]
  },
  {
   "cell_type": "code",
   "execution_count": 25,
   "id": "ac7348c3-90ee-43ff-94ac-06f9c533c3a1",
   "metadata": {},
   "outputs": [
    {
     "name": "stdout",
     "output_type": "stream",
     "text": [
      "[23, 4, 556, 7]\n"
     ]
    }
   ],
   "source": [
    "print(numbers)"
   ]
  },
  {
   "cell_type": "code",
   "execution_count": 26,
   "id": "38ce243c-0c5d-4c28-a29b-d4e047b24fee",
   "metadata": {},
   "outputs": [
    {
     "data": {
      "text/plain": [
       "range(0, 10)"
      ]
     },
     "execution_count": 26,
     "metadata": {},
     "output_type": "execute_result"
    }
   ],
   "source": [
    "range(10)"
   ]
  },
  {
   "cell_type": "code",
   "execution_count": 57,
   "id": "c6f6a94d-3fc5-464d-9f0e-1fe87b6cdce3",
   "metadata": {},
   "outputs": [
    {
     "name": "stdout",
     "output_type": "stream",
     "text": [
      "stop\n",
      "1\n",
      "23\n",
      "4\n",
      "4\n",
      "4\n",
      "5\n",
      "5\n",
      "5\n",
      "learning\n"
     ]
    }
   ],
   "source": [
    "x=[\"stop\",1,23,4,4,4,5,5,5,\"learning\"]\n",
    "for y in x:\n",
    "    print(y)\n"
   ]
  },
  {
   "cell_type": "code",
   "execution_count": 34,
   "id": "ff53be64-9c78-4c60-8a0a-28e7e55edce7",
   "metadata": {},
   "outputs": [
    {
     "name": "stdout",
     "output_type": "stream",
     "text": [
      "0\n",
      "1\n",
      "2\n",
      "3\n",
      "4\n",
      "5\n",
      "6\n",
      "7\n",
      "8\n",
      "9\n",
      "10\n",
      "11\n",
      "12\n",
      "13\n",
      "14\n",
      "15\n",
      "16\n",
      "17\n",
      "18\n",
      "19\n",
      "20\n",
      "21\n",
      "22\n",
      "23\n",
      "24\n",
      "25\n",
      "26\n",
      "27\n",
      "28\n",
      "29\n",
      "30\n",
      "31\n",
      "32\n",
      "33\n",
      "34\n",
      "35\n",
      "36\n",
      "37\n",
      "38\n",
      "39\n",
      "40\n",
      "41\n",
      "42\n",
      "43\n",
      "44\n",
      "45\n",
      "46\n",
      "47\n",
      "48\n",
      "49\n",
      "50\n",
      "51\n",
      "52\n",
      "53\n",
      "54\n",
      "55\n",
      "56\n",
      "57\n",
      "58\n",
      "59\n",
      "60\n",
      "61\n",
      "62\n",
      "63\n",
      "64\n",
      "65\n",
      "66\n",
      "67\n",
      "68\n",
      "69\n",
      "70\n",
      "71\n",
      "72\n",
      "73\n",
      "74\n",
      "75\n",
      "76\n",
      "77\n",
      "78\n",
      "79\n",
      "80\n",
      "81\n",
      "82\n",
      "83\n",
      "84\n",
      "85\n",
      "86\n",
      "87\n",
      "88\n",
      "89\n",
      "90\n",
      "91\n",
      "92\n",
      "93\n",
      "94\n",
      "95\n",
      "96\n",
      "97\n",
      "98\n",
      "99\n"
     ]
    }
   ],
   "source": [
    "for i in range(100):\n",
    "    print(i)"
   ]
  },
  {
   "cell_type": "code",
   "execution_count": 35,
   "id": "f4ad38c0-1de4-45c1-9c49-981f2d062156",
   "metadata": {},
   "outputs": [
    {
     "name": "stdout",
     "output_type": "stream",
     "text": [
      "thank you i dont really come\n"
     ]
    }
   ],
   "source": [
    "print(\"thank you \" \"i dont really come\")"
   ]
  },
  {
   "cell_type": "code",
   "execution_count": 56,
   "id": "b07c6005-fb67-4467-95ca-368cb3207cbb",
   "metadata": {},
   "outputs": [
    {
     "name": "stdout",
     "output_type": "stream",
     "text": [
      "name\n",
      "age\n",
      "city\n"
     ]
    }
   ],
   "source": [
    "person = {\"name\": \"Alice\", \"age\": 25, \"city\": \"New York\"}\n",
    "\n",
    "for person in person:\n",
    "    print(person)\n"
   ]
  },
  {
   "cell_type": "code",
   "execution_count": 54,
   "id": "1fa5d7f8-729c-4f49-bd39-9cf7a8b87830",
   "metadata": {},
   "outputs": [
    {
     "name": "stdout",
     "output_type": "stream",
     "text": [
      "name\n",
      "age\n",
      "city\n"
     ]
    }
   ],
   "source": [
    "person = {\"name\": \"Alice\", \"age\": 25, \"city\": \"New York\"}\n",
    "\n",
    "for key in person:\n",
    "    print(key)\n"
   ]
  },
  {
   "cell_type": "code",
   "execution_count": 63,
   "id": "f24cbd47-ef0c-48ec-bef3-571eafbb4ee9",
   "metadata": {},
   "outputs": [
    {
     "name": "stdout",
     "output_type": "stream",
     "text": [
      "name: Alice\n",
      "age: 25\n",
      "city: New York\n"
     ]
    }
   ],
   "source": [
    "person = {\"name\": \"Alice\", \"age\": 25, \"city\": \"New York\"}\n",
    "for key, value in person.items():\n",
    "    print(f\"{key}: {value}\")\n"
   ]
  },
  {
   "cell_type": "code",
   "execution_count": 12,
   "id": "5f6c52d9-65f9-4f03-aca1-b1ff0331d72a",
   "metadata": {},
   "outputs": [
    {
     "name": "stdout",
     "output_type": "stream",
     "text": [
      "10\n",
      "8\n",
      "6\n",
      "4\n",
      "2\n"
     ]
    }
   ],
   "source": [
    "for x in range(10,0,-2):\n",
    "    print(x)"
   ]
  },
  {
   "cell_type": "code",
   "execution_count": 14,
   "id": "eb79003f-c615-43be-a28c-664dbb9021dc",
   "metadata": {},
   "outputs": [
    {
     "name": "stdout",
     "output_type": "stream",
     "text": [
      "0\n",
      "1\n",
      "2\n",
      "3\n",
      "4\n"
     ]
    }
   ],
   "source": [
    "count = 0\n",
    "while count<5:\n",
    "    print(count)\n",
    "    count= count+1"
   ]
  },
  {
   "cell_type": "code",
   "execution_count": 20,
   "id": "6c9c2030-9bbe-41d8-8cbe-cee6915ca802",
   "metadata": {},
   "outputs": [
    {
     "name": "stdout",
     "output_type": "stream",
     "text": [
      "even\n"
     ]
    }
   ],
   "source": [
    "range(x,17)\n",
    "x = 0\n",
    "while x%2==0:\n",
    "    print(\"even\")\n",
    "    x=x+1\n"
   ]
  },
  {
   "cell_type": "code",
   "execution_count": 24,
   "id": "93be92c0-202f-4d24-8a1b-a49f5182ad58",
   "metadata": {},
   "outputs": [
    {
     "name": "stdout",
     "output_type": "stream",
     "text": [
      "0\n",
      "1\n",
      "2\n",
      "3\n",
      "4\n"
     ]
    }
   ],
   "source": [
    "for x in range(0,10):\n",
    "    if(x==5):\n",
    "        break\n",
    "    print(x)"
   ]
  },
  {
   "cell_type": "code",
   "execution_count": 28,
   "id": "8f672555-53e0-4929-b811-83251822046b",
   "metadata": {},
   "outputs": [
    {
     "name": "stdout",
     "output_type": "stream",
     "text": [
      "1\n",
      "2\n",
      "3\n"
     ]
    }
   ],
   "source": [
    "for y in range(1,10):\n",
    "    if(y==4):\n",
    "        break\n",
    "    print(y)"
   ]
  },
  {
   "cell_type": "code",
   "execution_count": null,
   "id": "0f83f869-3622-4b42-8c4a-721c2f2ec657",
   "metadata": {},
   "outputs": [],
   "source": [
    "for i in range(10):\n",
    "    if (i%2==0):\n",
    "        continue\n",
    "print(i)"
   ]
  },
  {
   "cell_type": "code",
   "execution_count": null,
   "id": "db5f59f6-7f00-446e-8248-96fcc7966b49",
   "metadata": {},
   "outputs": [],
   "source": []
  }
 ],
 "metadata": {
  "kernelspec": {
   "display_name": "Python 3 (ipykernel)",
   "language": "python",
   "name": "python3"
  },
  "language_info": {
   "codemirror_mode": {
    "name": "ipython",
    "version": 3
   },
   "file_extension": ".py",
   "mimetype": "text/x-python",
   "name": "python",
   "nbconvert_exporter": "python",
   "pygments_lexer": "ipython3",
   "version": "3.12.4"
  }
 },
 "nbformat": 4,
 "nbformat_minor": 5
}
