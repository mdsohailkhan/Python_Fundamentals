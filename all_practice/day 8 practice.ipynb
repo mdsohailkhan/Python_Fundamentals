{
 "cells": [
  {
   "cell_type": "code",
   "execution_count": 21,
   "id": "6ba6f6e5-e283-48c5-b41b-e03881019bf3",
   "metadata": {},
   "outputs": [
    {
     "name": "stdin",
     "output_type": "stream",
     "text": [
      "please enter the divident  11\n",
      "please enter the divisor 2\n"
     ]
    },
    {
     "name": "stdout",
     "output_type": "stream",
     "text": [
      "odd\n"
     ]
    }
   ],
   "source": [
    "\"\"\"\n",
    "a = int(input(\"please enter the divident \"))\n",
    "b = int(input(\"please enter the divisor\"))\n",
    "c = (a%b==0)\n",
    "if(c):\n",
    " print(\"even\",c)\n",
    "else:\n",
    " print(\"odd\")\n",
    "\"\"\""
   ]
  },
  {
   "cell_type": "code",
   "execution_count": 46,
   "id": "73595bfd-014f-4602-aff2-0d20a827e1b3",
   "metadata": {},
   "outputs": [
    {
     "name": "stdin",
     "output_type": "stream",
     "text": [
      "please enter a value to check if it is odd or even 85\n"
     ]
    },
    {
     "name": "stdout",
     "output_type": "stream",
     "text": [
      "it is is odd 85\n"
     ]
    }
   ],
   "source": [
    "b = int(input(\"please enter a value to check if it is odd or even\"))\n",
    "if(b%2==0):\n",
    " print(\"it is even\",b)\n",
    "else:\n",
    " print(\"it is is odd\",b)\n",
    "        \n",
    "    "
   ]
  },
  {
   "cell_type": "code",
   "execution_count": 53,
   "id": "9b35613a-c4a4-4fe0-9f98-3a6d5e923117",
   "metadata": {},
   "outputs": [
    {
     "ename": "SyntaxError",
     "evalue": "incomplete input (1905151292.py, line 1)",
     "output_type": "error",
     "traceback": [
      "\u001b[1;36m  Cell \u001b[1;32mIn[53], line 1\u001b[1;36m\u001b[0m\n\u001b[1;33m    if(n%2==0 and 2<=n <=5):\u001b[0m\n\u001b[1;37m                            ^\u001b[0m\n\u001b[1;31mSyntaxError\u001b[0m\u001b[1;31m:\u001b[0m incomplete input\n"
     ]
    }
   ],
   "source": [
    "if(n%2==0 and 2<=n <=5):"
   ]
  },
  {
   "cell_type": "code",
   "execution_count": null,
   "id": "9f8ba711-dfdb-43f9-8650-375886fae453",
   "metadata": {},
   "outputs": [],
   "source": []
  },
  {
   "cell_type": "code",
   "execution_count": null,
   "id": "783b720c-6882-4011-8485-8cba65fce97a",
   "metadata": {},
   "outputs": [],
   "source": []
  }
 ],
 "metadata": {
  "kernelspec": {
   "display_name": "Python 3 (ipykernel)",
   "language": "python",
   "name": "python3"
  },
  "language_info": {
   "codemirror_mode": {
    "name": "ipython",
    "version": 3
   },
   "file_extension": ".py",
   "mimetype": "text/x-python",
   "name": "python",
   "nbconvert_exporter": "python",
   "pygments_lexer": "ipython3",
   "version": "3.12.3"
  }
 },
 "nbformat": 4,
 "nbformat_minor": 5
}
