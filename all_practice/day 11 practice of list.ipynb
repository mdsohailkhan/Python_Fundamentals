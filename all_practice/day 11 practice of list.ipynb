{
 "cells": [
  {
   "cell_type": "code",
   "execution_count": 52,
   "id": "cb6f131f-82b3-4e4d-aa0d-ad9c7bb9ce10",
   "metadata": {},
   "outputs": [
    {
     "ename": "TypeError",
     "evalue": "'<' not supported between instances of 'int' and 'str'",
     "output_type": "error",
     "traceback": [
      "\u001b[1;31m---------------------------------------------------------------------------\u001b[0m",
      "\u001b[1;31mTypeError\u001b[0m                                 Traceback (most recent call last)",
      "Cell \u001b[1;32mIn[52], line 3\u001b[0m\n\u001b[0;32m      1\u001b[0m \u001b[38;5;66;03m#print out all list items\u001b[39;00m\n\u001b[0;32m      2\u001b[0m clothes\u001b[38;5;241m=\u001b[39m[\u001b[38;5;124m\"\u001b[39m\u001b[38;5;124mt-shirt\u001b[39m\u001b[38;5;124m\"\u001b[39m, \u001b[38;5;124m\"\u001b[39m\u001b[38;5;124mpants\u001b[39m\u001b[38;5;124m\"\u001b[39m, \u001b[38;5;124m\"\u001b[39m\u001b[38;5;124minners\u001b[39m\u001b[38;5;124m\"\u001b[39m,\u001b[38;5;241m2\u001b[39m,\u001b[38;5;241m4\u001b[39m,\u001b[38;5;241m5\u001b[39m,\u001b[38;5;241m5.8\u001b[39m]\n\u001b[1;32m----> 3\u001b[0m clothes\u001b[38;5;241m.\u001b[39msort()\n\u001b[0;32m      4\u001b[0m clothes\n",
      "\u001b[1;31mTypeError\u001b[0m: '<' not supported between instances of 'int' and 'str'"
     ]
    }
   ],
   "source": [
    "#print out all list items\n",
    "clothes=[\"t-shirt\", \"pants\", \"inners\",2,4,5,5.8]\n",
    "clothes.sort()\n",
    "clothes"
   ]
  },
  {
   "cell_type": "code",
   "execution_count": 3,
   "id": "31865c2f-8402-459a-85d5-19ac3e1d0b04",
   "metadata": {},
   "outputs": [
    {
     "data": {
      "text/plain": [
       "['t-shirt', 'pants', 'inners', 2, 4, 5, 5.8]"
      ]
     },
     "execution_count": 3,
     "metadata": {},
     "output_type": "execute_result"
    }
   ],
   "source": [
    "#another way to print out list of items \n",
    "clothes[0:]"
   ]
  },
  {
   "cell_type": "code",
   "execution_count": 4,
   "id": "7dc9b959-c5c9-4ae0-9f46-274ed0670fe6",
   "metadata": {},
   "outputs": [
    {
     "name": "stdout",
     "output_type": "stream",
     "text": [
      "['t-shirt', 'pants', 'inners', 2, 4, 5, 5.8, 'belt']\n"
     ]
    }
   ],
   "source": [
    "# add element into the list but from the last index\n",
    "clothes.append(\"belt\")\n",
    "print(clothes)"
   ]
  },
  {
   "cell_type": "code",
   "execution_count": 9,
   "id": "e79fe0f0-d806-4930-90f7-946f79a0a738",
   "metadata": {},
   "outputs": [
    {
     "name": "stdout",
     "output_type": "stream",
     "text": [
      "['t-shirt', 'pants', 'inners', 2, 4, 5, 5.8, 'watch']\n"
     ]
    }
   ],
   "source": [
    "# replace an element with index number\n",
    "clothes[7]=\"watch\"\n",
    "print(clothes)"
   ]
  },
  {
   "cell_type": "code",
   "execution_count": 12,
   "id": "210f08d8-75a0-4b32-ba05-b6c17db4bab7",
   "metadata": {},
   "outputs": [
    {
     "data": {
      "text/plain": [
       "['t-shirt',\n",
       " 'chaddi',\n",
       " 'chaddi',\n",
       " 'chaddi',\n",
       " 'pants',\n",
       " 'inners',\n",
       " 2,\n",
       " 4,\n",
       " 5,\n",
       " 5.8,\n",
       " 'watch']"
      ]
     },
     "execution_count": 12,
     "metadata": {},
     "output_type": "execute_result"
    }
   ],
   "source": [
    "clothes.insert(1,\"chaddi\")\n",
    "clothes[0:]"
   ]
  },
  {
   "cell_type": "code",
   "execution_count": 17,
   "id": "3bbb0a21-6062-4ba1-91b8-3bae7c85ecbd",
   "metadata": {},
   "outputs": [
    {
     "data": {
      "text/plain": [
       "['chaddi', 'chaddi', 'chaddi', 'pants', 'inners', 2, 4, 5, 5.8]"
      ]
     },
     "execution_count": 17,
     "metadata": {},
     "output_type": "execute_result"
    }
   ],
   "source": [
    "clothes.remove(\"watch\")\n",
    "clothes[1:]"
   ]
  },
  {
   "cell_type": "code",
   "execution_count": 24,
   "id": "83f4e6c5-a6d0-41d8-9e41-cc1046acab46",
   "metadata": {},
   "outputs": [
    {
     "data": {
      "text/plain": [
       "['chaddi',\n",
       " 'chaddi',\n",
       " 'chaddi',\n",
       " 'pants',\n",
       " 'inners',\n",
       " 2,\n",
       " 4,\n",
       " 5.8,\n",
       " 'watch',\n",
       " 'watch',\n",
       " 'ban',\n",
       " 'watch',\n",
       " 'ban',\n",
       " 'watch']"
      ]
     },
     "execution_count": 24,
     "metadata": {},
     "output_type": "execute_result"
    }
   ],
   "source": [
    "clothes.append(\"watch\")\n",
    "clothes.insert(-1,\"ban\")\n",
    "clothes.remove(5)\n",
    "clothes[1:]\n"
   ]
  },
  {
   "cell_type": "code",
   "execution_count": 26,
   "id": "6abd9b70-068c-4d3f-9e70-f63892d6e81b",
   "metadata": {},
   "outputs": [
    {
     "name": "stdout",
     "output_type": "stream",
     "text": [
      "['t-shirt', 'chaddi', 'chaddi', 'chaddi', 'pants', 'inners', 2, 4, 5.8, 'watch', 'watch', 'ban', 'watch', 'ban', 'watch']\n"
     ]
    }
   ],
   "source": [
    "print(clothes)"
   ]
  },
  {
   "cell_type": "code",
   "execution_count": 31,
   "id": "e99b6c5f-4702-4fd9-88e2-707c49cab372",
   "metadata": {},
   "outputs": [
    {
     "name": "stdout",
     "output_type": "stream",
     "text": [
      "['t-shirt', 'chaddi', 'chaddi', 'chaddi', 'pants', 'inners', 2, 4, 5.8, 'watch', 'watch', 'ban', 'watch']\n"
     ]
    }
   ],
   "source": [
    "clothes.pop()\n",
    "print(clothes)"
   ]
  },
  {
   "cell_type": "code",
   "execution_count": 39,
   "id": "0d3ef6ec-4fc8-4f17-8889-5171f311b6c6",
   "metadata": {},
   "outputs": [
    {
     "name": "stdout",
     "output_type": "stream",
     "text": [
      "0\n"
     ]
    }
   ],
   "source": [
    "index=clothes.index(\"t-shirt\")\n",
    "print(index)"
   ]
  },
  {
   "cell_type": "code",
   "execution_count": 86,
   "id": "5992b9d0-908e-4963-abd1-ca5dfcba9ca2",
   "metadata": {},
   "outputs": [
    {
     "name": "stdout",
     "output_type": "stream",
     "text": [
      "0 8\n",
      "1 4\n",
      "2 5\n",
      "3 7\n",
      "4 10\n",
      "5 2\n"
     ]
    }
   ],
   "source": [
    "numbers=[8,4,5,7,10,2,]\n",
    "\"\"\"#numbers[:]\n",
    "numbers.sort()\n",
    "numbers\n",
    "numbers.reverse()\n",
    "numbers\n",
    "numbers.pop()\n",
    "numbers\n",
    "numbers.insert(0,125)\n",
    "numbers\n",
    "numbers.append(200)\n",
    "numbers[::-1]\n",
    "\n",
    "for numbers in numbers:\n",
    "    print(numbers)\n",
    "\"\"\"\n",
    "#for index,numbers in enumerate(numbers):\n",
    " #   print(index,numbers)\n",
    "for index,numbers in enumerate(numbers):\n",
    "    print(index,numbers)"
   ]
  },
  {
   "cell_type": "code",
   "execution_count": 89,
   "id": "6d30d37f-c277-4367-a89d-318000d08a41",
   "metadata": {},
   "outputs": [
    {
     "name": "stdout",
     "output_type": "stream",
     "text": [
      "0\n",
      "1\n",
      "4\n",
      "9\n",
      "16\n",
      "25\n",
      "36\n",
      "49\n",
      "64\n",
      "81\n"
     ]
    }
   ],
   "source": [
    "lst=[]\n",
    "for x in range(10):\n",
    "    print(x**2)\n",
    "    "
   ]
  },
  {
   "cell_type": "code",
   "execution_count": 91,
   "id": "ab8cc182-1ef5-459c-9e97-5e6fba10bfbd",
   "metadata": {},
   "outputs": [
    {
     "data": {
      "text/plain": [
       "[0, 1, 4, 9, 16, 25, 36, 49, 64, 81]"
      ]
     },
     "execution_count": 91,
     "metadata": {},
     "output_type": "execute_result"
    }
   ],
   "source": [
    "[x**2 for x in range(10)]"
   ]
  },
  {
   "cell_type": "code",
   "execution_count": 5,
   "id": "1e677942-ebe6-4d97-842e-af8ac2ac85dc",
   "metadata": {},
   "outputs": [
    {
     "ename": "SyntaxError",
     "evalue": "invalid syntax (188687049.py, line 3)",
     "output_type": "error",
     "traceback": [
      "\u001b[1;36m  Cell \u001b[1;32mIn[5], line 3\u001b[1;36m\u001b[0m\n\u001b[1;33m    if i%==0:\u001b[0m\n\u001b[1;37m        ^\u001b[0m\n\u001b[1;31mSyntaxError\u001b[0m\u001b[1;31m:\u001b[0m invalid syntax\n"
     ]
    }
   ],
   "source": [
    "lst = []\n",
    "for i in range(10):\n",
    "    if i%==0:\n",
    "     lst.append(i)\n",
    "print(lst)"
   ]
  },
  {
   "cell_type": "code",
   "execution_count": 6,
   "id": "8a6e18d5-c51f-42eb-bedc-db5df8a69af3",
   "metadata": {},
   "outputs": [
    {
     "name": "stdout",
     "output_type": "stream",
     "text": [
      "bye\n"
     ]
    }
   ],
   "source": [
    "print(\"bye\")"
   ]
  },
  {
   "cell_type": "code",
   "execution_count": null,
   "id": "63d98b6a",
   "metadata": {},
   "outputs": [],
   "source": []
  }
 ],
 "metadata": {
  "kernelspec": {
   "display_name": "Python 3 (ipykernel)",
   "language": "python",
   "name": "python3"
  },
  "language_info": {
   "codemirror_mode": {
    "name": "ipython",
    "version": 3
   },
   "file_extension": ".py",
   "mimetype": "text/x-python",
   "name": "python",
   "nbconvert_exporter": "python",
   "pygments_lexer": "ipython3",
   "version": "3.12.4"
  }
 },
 "nbformat": 4,
 "nbformat_minor": 5
}
