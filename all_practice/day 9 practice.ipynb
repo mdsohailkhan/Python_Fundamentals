{
 "cells": [
  {
   "cell_type": "code",
   "execution_count": 17,
   "id": "103a9e19-3028-4281-9815-5a3392b25e62",
   "metadata": {},
   "outputs": [
    {
     "name": "stdin",
     "output_type": "stream",
     "text": [
      "please enter an number to check if it is even or odd:  13\n"
     ]
    },
    {
     "name": "stdout",
     "output_type": "stream",
     "text": [
      "odd 13\n"
     ]
    }
   ],
   "source": [
    "n = int(input(\"please enter an number to check if it is even or odd: \"))\n",
    "if(n%2==0 or n<4 ):\n",
    " print(\"even\",n)\n",
    "else:\n",
    " print(\"odd\",n)\n"
   ]
  },
  {
   "cell_type": "code",
   "execution_count": 22,
   "id": "5f35926b-7a9a-4b48-bf9f-d3ad1bb5244e",
   "metadata": {},
   "outputs": [
    {
     "name": "stdin",
     "output_type": "stream",
     "text": [
      "please enter an number: 25\n"
     ]
    }
   ],
   "source": [
    "x = int(input(\"please enter an number:\"))\n",
    "if(x<20):\n",
    "    print(x,\" is less than 20 first condition\") \n",
    "elif(x<15):\n",
    "    print(x,\" is less than 15 second condition\")\n"
   ]
  },
  {
   "cell_type": "code",
   "execution_count": 23,
   "id": "75ee7ac8-5dc1-4796-86ba-1905c118d097",
   "metadata": {},
   "outputs": [
    {
     "name": "stdout",
     "output_type": "stream",
     "text": [
      "Weird\n",
      "Not Weird\n",
      "Weird\n",
      "Not Weird\n"
     ]
    }
   ],
   "source": [
    "def check_weirdness(n):\n",
    "    if n % 2 != 0:  # n is odd\n",
    "        print(\"Weird\")\n",
    "    elif 2 <= n <= 5:  # n is even and in the inclusive range of 2 to 5\n",
    "        print(\"Not Weird\")\n",
    "    elif 6 <= n <= 20:  # n is even and in the inclusive range of 6 to 20\n",
    "        print(\"Weird\")\n",
    "    else:  # n is even and greater than 20\n",
    "        print(\"Not Weird\")\n",
    "\n",
    "# Test cases\n",
    "check_weirdness(3)   # Output: Weird\n",
    "check_weirdness(4)   # Output: Not Weird\n",
    "check_weirdness(6)   # Output: Weird\n",
    "check_weirdness(22)  # Output: Not Weird\n"
   ]
  },
  {
   "cell_type": "code",
   "execution_count": 24,
   "id": "7bfe366a-2e01-4587-91a7-a3a1d8cc96e7",
   "metadata": {},
   "outputs": [
    {
     "name": "stdout",
     "output_type": "stream",
     "text": [
      "Weird\n"
     ]
    }
   ],
   "source": [
    "def check_weirdness(n):\n",
    "    if n % 2 != 0:  # n is odd\n",
    "        print(\"Weird\")\n",
    "    elif 2 <= n <= 5:  # n is even and in the inclusive range of 2 to 5\n",
    "        print(\"Not Weird\")\n",
    "    elif 6 <= n <= 20:  # n is even and in the inclusive range of 6 to 20\n",
    "        print(\"Weird\")\n",
    "    else:  # n is even and greater than 20\n",
    "        print(\"Not Weird\")\n",
    "\n",
    "# Test case with input 3\n",
    "check_weirdness(3)   # Output: Weird\n"
   ]
  },
  {
   "cell_type": "code",
   "execution_count": null,
   "id": "221043e7-39dc-4365-a3dc-7776224b9d2a",
   "metadata": {},
   "outputs": [],
   "source": []
  }
 ],
 "metadata": {
  "kernelspec": {
   "display_name": "Python 3 (ipykernel)",
   "language": "python",
   "name": "python3"
  },
  "language_info": {
   "codemirror_mode": {
    "name": "ipython",
    "version": 3
   },
   "file_extension": ".py",
   "mimetype": "text/x-python",
   "name": "python",
   "nbconvert_exporter": "python",
   "pygments_lexer": "ipython3",
   "version": "3.12.3"
  }
 },
 "nbformat": 4,
 "nbformat_minor": 5
}
