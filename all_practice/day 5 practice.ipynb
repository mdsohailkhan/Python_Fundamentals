{
 "cells": [
  {
   "cell_type": "code",
   "execution_count": 1,
   "id": "88923d35-7080-47a6-887b-4ee1fd696dcb",
   "metadata": {},
   "outputs": [
    {
     "name": "stdout",
     "output_type": "stream",
     "text": [
      "baigan\n"
     ]
    }
   ],
   "source": [
    "print(\"baigan\")"
   ]
  },
  {
   "cell_type": "code",
   "execution_count": 7,
   "id": "14434db0-8ea4-4916-8d97-8930ae123293",
   "metadata": {},
   "outputs": [
    {
     "data": {
      "text/plain": [
       "int"
      ]
     },
     "execution_count": 7,
     "metadata": {},
     "output_type": "execute_result"
    }
   ],
   "source": [
    "a=3\n",
    "type(a)\n",
    "#print(type(a))"
   ]
  },
  {
   "cell_type": "code",
   "execution_count": 8,
   "id": "5857ab60-3cfe-487a-a7f2-0d4eb9978274",
   "metadata": {},
   "outputs": [
    {
     "name": "stdout",
     "output_type": "stream",
     "text": [
      "why am i here\n"
     ]
    }
   ],
   "source": [
    "print(\"why am i here\")"
   ]
  },
  {
   "cell_type": "code",
   "execution_count": 9,
   "id": "9dfc01ad-43ff-49dd-a21a-9748dba7405a",
   "metadata": {},
   "outputs": [
    {
     "data": {
      "text/plain": [
       "str"
      ]
     },
     "execution_count": 9,
     "metadata": {},
     "output_type": "execute_result"
    }
   ],
   "source": [
    "c = \"kinder\"\n",
    "type(c)\n"
   ]
  },
  {
   "cell_type": "code",
   "execution_count": 10,
   "id": "617d2d10-3109-44ee-a4b7-6722e062e5f1",
   "metadata": {},
   "outputs": [
    {
     "data": {
      "text/plain": [
       "str"
      ]
     },
     "execution_count": 10,
     "metadata": {},
     "output_type": "execute_result"
    }
   ],
   "source": [
    "d = c\n",
    "type(c)"
   ]
  },
  {
   "cell_type": "code",
   "execution_count": 17,
   "id": "3487bde3-2a4d-4d73-8e04-7eca9e07a3c3",
   "metadata": {},
   "outputs": [
    {
     "data": {
      "text/plain": [
       "0.4"
      ]
     },
     "execution_count": 17,
     "metadata": {},
     "output_type": "execute_result"
    }
   ],
   "source": [
    "a=2\n",
    "a*4\n",
    "a|2\n",
    "a/5"
   ]
  },
  {
   "cell_type": "code",
   "execution_count": 18,
   "id": "208daf67-4829-42cf-939a-c75829ee1dab",
   "metadata": {},
   "outputs": [
    {
     "data": {
      "text/plain": [
       "8"
      ]
     },
     "execution_count": 18,
     "metadata": {},
     "output_type": "execute_result"
    }
   ],
   "source": [
    "a*4"
   ]
  },
  {
   "cell_type": "code",
   "execution_count": 19,
   "id": "4b308172-4add-426b-8142-e4042e2e54fc",
   "metadata": {},
   "outputs": [
    {
     "data": {
      "text/plain": [
       "0.6666666666666666"
      ]
     },
     "execution_count": 19,
     "metadata": {},
     "output_type": "execute_result"
    }
   ],
   "source": [
    "a/3"
   ]
  },
  {
   "cell_type": "code",
   "execution_count": 20,
   "id": "75a85ff6-2c72-4cd5-86b6-585368ae4e32",
   "metadata": {},
   "outputs": [
    {
     "data": {
      "text/plain": [
       "2"
      ]
     },
     "execution_count": 20,
     "metadata": {},
     "output_type": "execute_result"
    }
   ],
   "source": [
    "a|2\n"
   ]
  },
  {
   "cell_type": "code",
   "execution_count": 21,
   "id": "e630745e-10c0-4edd-ad63-25911bc32ca9",
   "metadata": {},
   "outputs": [
    {
     "data": {
      "text/plain": [
       "0"
      ]
     },
     "execution_count": 21,
     "metadata": {},
     "output_type": "execute_result"
    }
   ],
   "source": [
    "a-2"
   ]
  },
  {
   "cell_type": "code",
   "execution_count": 22,
   "id": "8aa829f7-ebb4-43c8-8452-9898fc1a3e01",
   "metadata": {},
   "outputs": [
    {
     "data": {
      "text/plain": [
       "4"
      ]
     },
     "execution_count": 22,
     "metadata": {},
     "output_type": "execute_result"
    }
   ],
   "source": [
    "a+2"
   ]
  },
  {
   "cell_type": "code",
   "execution_count": 24,
   "id": "d3912995-7a62-4fda-9c46-f49dbed80b3e",
   "metadata": {},
   "outputs": [
    {
     "data": {
      "text/plain": [
       "float"
      ]
     },
     "execution_count": 24,
     "metadata": {},
     "output_type": "execute_result"
    }
   ],
   "source": [
    "a = 3.56\n",
    "type(a)"
   ]
  },
  {
   "cell_type": "code",
   "execution_count": 25,
   "id": "f52a9fa6-327c-4f0b-bddf-6d4d9222c1ae",
   "metadata": {},
   "outputs": [
    {
     "data": {
      "text/plain": [
       "3"
      ]
     },
     "execution_count": 25,
     "metadata": {},
     "output_type": "execute_result"
    }
   ],
   "source": [
    "#typecasting means here i am changing float vaule ie a = 3.56 to 3 as integer\n",
    "int(a)"
   ]
  },
  {
   "cell_type": "code",
   "execution_count": 26,
   "id": "1d37a13d-ec99-4643-8f0b-cf5444c20d10",
   "metadata": {},
   "outputs": [
    {
     "data": {
      "text/plain": [
       "False"
      ]
     },
     "execution_count": 26,
     "metadata": {},
     "output_type": "execute_result"
    }
   ],
   "source": [
    "#boolean\n",
    "x = True\n",
    "y = False\n",
    "x & y"
   ]
  },
  {
   "cell_type": "code",
   "execution_count": 27,
   "id": "49c4975b-e083-48c5-b6d8-a19cd5892dc7",
   "metadata": {},
   "outputs": [
    {
     "data": {
      "text/plain": [
       "True"
      ]
     },
     "execution_count": 27,
     "metadata": {},
     "output_type": "execute_result"
    }
   ],
   "source": [
    "x or y"
   ]
  },
  {
   "cell_type": "code",
   "execution_count": 32,
   "id": "1bd3055e-e4d8-43ea-87a0-877354185b97",
   "metadata": {},
   "outputs": [
    {
     "data": {
      "text/plain": [
       "False"
      ]
     },
     "execution_count": 32,
     "metadata": {},
     "output_type": "execute_result"
    }
   ],
   "source": [
    "x and y"
   ]
  },
  {
   "cell_type": "code",
   "execution_count": 37,
   "id": "a40a57bc-54bc-423d-807c-c222befb909e",
   "metadata": {},
   "outputs": [
    {
     "name": "stdout",
     "output_type": "stream",
     "text": [
      "Hamilton\n",
      "Hamilton3.56\n"
     ]
    }
   ],
   "source": [
    "name= \"Hamilton\" \n",
    "print(name)\n",
    "print(name+str(a))\n"
   ]
  },
  {
   "cell_type": "code",
   "execution_count": null,
   "id": "575f9f78-033b-40ce-9768-129d613acbf9",
   "metadata": {},
   "outputs": [],
   "source": []
  }
 ],
 "metadata": {
  "kernelspec": {
   "display_name": "Python 3 (ipykernel)",
   "language": "python",
   "name": "python3"
  },
  "language_info": {
   "codemirror_mode": {
    "name": "ipython",
    "version": 3
   },
   "file_extension": ".py",
   "mimetype": "text/x-python",
   "name": "python",
   "nbconvert_exporter": "python",
   "pygments_lexer": "ipython3",
   "version": "3.12.3"
  }
 },
 "nbformat": 4,
 "nbformat_minor": 5
}
