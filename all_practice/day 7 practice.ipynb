{
 "cells": [
  {
   "cell_type": "code",
   "execution_count": 2,
   "id": "65126704-5e0b-48c7-8afe-c32d28cff792",
   "metadata": {},
   "outputs": [
    {
     "name": "stdout",
     "output_type": "stream",
     "text": [
      "your first name is naik and your last name is krish\n"
     ]
    }
   ],
   "source": [
    "first_name = \"krish\"\n",
    "last_name = \"naik\"\n",
    "print(\"your first name is {1} and your last name is {0}\".format(first_name,last_name)) "
   ]
  },
  {
   "cell_type": "code",
   "execution_count": 35,
   "id": "a488b7b2-f8b0-4a23-aae0-d60d2580b7c0",
   "metadata": {},
   "outputs": [
    {
     "name": "stdin",
     "output_type": "stream",
     "text": [
      "Enter first value 2\n",
      "enter second value 2\n"
     ]
    },
    {
     "name": "stdout",
     "output_type": "stream",
     "text": [
      "4\n"
     ]
    }
   ],
   "source": [
    "a=int(input(\"Enter first value\"))\n",
    "b=int(input(\"enter second value\"))\n",
    "c = a+b\n",
    "print(c)"
   ]
  },
  {
   "cell_type": "code",
   "execution_count": 22,
   "id": "b2b10842-a6b8-4453-a61c-2cde5e7bdccd",
   "metadata": {},
   "outputs": [
    {
     "name": "stdin",
     "output_type": "stream",
     "text": [
      "enter first value 2\n",
      "enter second value 3\n"
     ]
    },
    {
     "name": "stdout",
     "output_type": "stream",
     "text": [
      "-1.0\n"
     ]
    },
    {
     "data": {
      "text/plain": [
       "float"
      ]
     },
     "execution_count": 22,
     "metadata": {},
     "output_type": "execute_result"
    }
   ],
   "source": [
    "## here i am type casting the same thing\n",
    "this_is_string_1 = input(\"enter first value\")\n",
    "this_is_string_2 = input(\"enter second value\")\n",
    "type(this_is_string_1)\n",
    "\n",
    "x=float(this_is_string_1)\n",
    "y=float(this_is_string_2)\n",
    "\n",
    "z=x-y\n",
    "print(z)\n",
    "type(z)\n"
   ]
  },
  {
   "cell_type": "code",
   "execution_count": 18,
   "id": "f1e3b392-08d0-4ba0-98c7-d3d746b92c3c",
   "metadata": {},
   "outputs": [
    {
     "name": "stdout",
     "output_type": "stream",
     "text": [
      "6\n"
     ]
    },
    {
     "data": {
      "text/plain": [
       "str"
      ]
     },
     "execution_count": 18,
     "metadata": {},
     "output_type": "execute_result"
    }
   ],
   "source": [
    "Z_integer  = 6\n",
    "\n",
    "converting_integer_to_string = str(Z_integer)\n",
    "print(converting_integer_to_string)\n",
    "type(z)\n",
    "type(converting_integer_to_string)"
   ]
  },
  {
   "cell_type": "code",
   "execution_count": 23,
   "id": "f033c527-8afe-4947-9985-7de094a034a1",
   "metadata": {},
   "outputs": [
    {
     "name": "stdout",
     "output_type": "stream",
     "text": [
      "1\n"
     ]
    }
   ],
   "source": [
    "print(5%2)"
   ]
  },
  {
   "cell_type": "code",
   "execution_count": 36,
   "id": "f3d438a2-6518-4bc4-9164-6f1539bc2809",
   "metadata": {},
   "outputs": [
    {
     "name": "stdin",
     "output_type": "stream",
     "text": [
      "enter an value 2\n"
     ]
    },
    {
     "name": "stdout",
     "output_type": "stream",
     "text": [
      "it is even value 2.0\n"
     ]
    }
   ],
   "source": [
    "x=input(\"enter an value\")\n",
    "float_value= float(x)\n",
    "if(float_value%2==0):\n",
    " print(\"it is even value\",float_value)\n",
    "else:\n",
    " print(\"it is odd value\",float_value)"
   ]
  },
  {
   "cell_type": "markdown",
   "id": "92bd8a94-e85d-485a-99c1-077b44cce8c0",
   "metadata": {},
   "source": [
    "## 10%2!=0"
   ]
  },
  {
   "cell_type": "code",
   "execution_count": null,
   "id": "5056daf7-47c1-44cb-87f0-741be7ce5b94",
   "metadata": {},
   "outputs": [],
   "source": [
    "10%2=="
   ]
  }
 ],
 "metadata": {
  "kernelspec": {
   "display_name": "Python 3 (ipykernel)",
   "language": "python",
   "name": "python3"
  },
  "language_info": {
   "codemirror_mode": {
    "name": "ipython",
    "version": 3
   },
   "file_extension": ".py",
   "mimetype": "text/x-python",
   "name": "python",
   "nbconvert_exporter": "python",
   "pygments_lexer": "ipython3",
   "version": "3.12.3"
  }
 },
 "nbformat": 4,
 "nbformat_minor": 5
}
