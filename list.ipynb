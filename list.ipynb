{
 "cells": [
  {
   "cell_type": "code",
   "execution_count": 516,
   "id": "ba1036ea",
   "metadata": {},
   "outputs": [
    {
     "name": "stdout",
     "output_type": "stream",
     "text": [
      "<class 'list'>\n"
     ]
    }
   ],
   "source": [
    "# list are mutable(can be changed)\n",
    "# we can assigned multiple data types in a list\n",
    "\"\"\"\n",
    "we also gonna learn functions like\n",
    "1)append()\n",
    "2)pop()\n",
    "3)insert()\n",
    "4)remove()\n",
    "5)index()\n",
    "6)count()\n",
    "\"\"\"\n",
    "\n",
    "# # to know type of list\n",
    "list=[]\n",
    "print(type(list))\n",
    "# tips and tricks \" print(type(name of list))\""
   ]
  },
  {
   "cell_type": "code",
   "execution_count": 517,
   "id": "f1b7897c",
   "metadata": {},
   "outputs": [
    {
     "name": "stdout",
     "output_type": "stream",
     "text": [
      "['krish', 30, 5.8, True]\n"
     ]
    }
   ],
   "source": [
    "# print all element from the list\n",
    "mixed_items=[\"krish\",30,5.8,True]\n",
    "print(mixed_items)\n"
   ]
  },
  {
   "cell_type": "code",
   "execution_count": 518,
   "id": "d3885275",
   "metadata": {},
   "outputs": [
    {
     "name": "stdout",
     "output_type": "stream",
     "text": [
      "<class 'list'>\n",
      "['krish', 30, 5.8, True]\n",
      "['krish', 5.8]\n",
      "[5.8, True]\n"
     ]
    }
   ],
   "source": [
    "\n",
    "#just knowing the type\n",
    "print(type(mixed_items))\n",
    "\n",
    "# another way to print all elements from the list is using index number\n",
    "\n",
    "# you can access list of items or elements from the list using index number\n",
    "# tips and trick \" print(name of a list[index number:])\"\n",
    "print(mixed_items[0:])\n",
    "print(mixed_items[::2])\n",
    "\n",
    "#you print elements from one index to another index let me show you\n",
    "print(mixed_items[2:4])"
   ]
  },
  {
   "cell_type": "code",
   "execution_count": 519,
   "id": "31eb517a",
   "metadata": {},
   "outputs": [
    {
     "name": "stdout",
     "output_type": "stream",
     "text": [
      "krish\n",
      "True\n",
      "5.8\n"
     ]
    }
   ],
   "source": [
    "# you can also print using just using index number\n",
    "# tips and trick \"print(name of list[index number])\n",
    "print(mixed_items[0])\n",
    "print(mixed_items[-1])\n",
    "print(mixed_items[-2])"
   ]
  },
  {
   "cell_type": "code",
   "execution_count": 520,
   "id": "54a3ef2a",
   "metadata": {},
   "outputs": [
    {
     "name": "stdout",
     "output_type": "stream",
     "text": [
      "[1, 2, 3, 4, 5, 6, 7, 8, 9, 10]\n",
      "[10, 2, 3, 4, 5, 6, 7, 8, 9, 10]\n"
     ]
    }
   ],
   "source": [
    "# modifying elements into the list\n",
    "numbers=[1,2,3,4,5,6,7,8,9,10]\n",
    "print(numbers[::])\n",
    "numbers[0]=10\n",
    "print(numbers)\n"
   ]
  },
  {
   "cell_type": "code",
   "execution_count": 521,
   "id": "3c439c31",
   "metadata": {},
   "outputs": [
    {
     "name": "stdout",
     "output_type": "stream",
     "text": [
      "[10, 2, 3, 4, 5, 6, 7, 8, 9, 10, 11]\n"
     ]
    }
   ],
   "source": [
    "# append element into the list\n",
    "numbers.append(11)# append always add element in the end of a list\n",
    "print(numbers)"
   ]
  },
  {
   "cell_type": "code",
   "execution_count": 522,
   "id": "51586060",
   "metadata": {},
   "outputs": [
    {
     "name": "stdout",
     "output_type": "stream",
     "text": [
      "[10, 2, 3, 4, 5, 6, 7, 8, 9, 10]\n",
      "[10, 2, 4, 5, 6, 7, 8, 9, 10]\n"
     ]
    }
   ],
   "source": [
    "# pop element into the list\n",
    "numbers.pop() # pop always remove item in the end of a list\n",
    "print(numbers)\n",
    "numbers.pop(2) # pop index value\n",
    "print(numbers)"
   ]
  },
  {
   "cell_type": "code",
   "execution_count": 523,
   "id": "c27c69f5",
   "metadata": {},
   "outputs": [
    {
     "name": "stdout",
     "output_type": "stream",
     "text": [
      "[2, 4, 5, 6, 7, 8, 9, 10]\n"
     ]
    }
   ],
   "source": [
    "# remove element from the list\n",
    "numbers.remove(10)\n",
    "print(numbers)\n"
   ]
  },
  {
   "cell_type": "code",
   "execution_count": 524,
   "id": "9316b636",
   "metadata": {},
   "outputs": [
    {
     "name": "stdout",
     "output_type": "stream",
     "text": [
      "[2, 10, 4, 5, 6, 7, 8, 9, 10]\n"
     ]
    }
   ],
   "source": [
    "# insert element into the list\n",
    "numbers.insert(1,10)\n",
    "print(numbers)\n"
   ]
  },
  {
   "cell_type": "code",
   "execution_count": 525,
   "id": "05e9af9d",
   "metadata": {},
   "outputs": [
    {
     "name": "stdout",
     "output_type": "stream",
     "text": [
      "3\n"
     ]
    }
   ],
   "source": [
    "# index value from the list\n",
    "number=[1,2,3,4,5,6,7,8,9,10]\n",
    "print(number.index(4)) # prints out index value\n"
   ]
  },
  {
   "cell_type": "code",
   "execution_count": 526,
   "id": "b0441c3b",
   "metadata": {},
   "outputs": [
    {
     "name": "stdout",
     "output_type": "stream",
     "text": [
      "[20, 20, 20, 1, 2, 3, 4, 5, 6, 7, 8, 9, 10]\n",
      "3\n"
     ]
    }
   ],
   "source": [
    "# count  from the list\n",
    "number.insert(0,20)\n",
    "number.insert(1,20)\n",
    "number.insert(2,20)\n",
    "print(number)\n",
    "print(number.count(20)) # count total number of same element from the list"
   ]
  },
  {
   "cell_type": "code",
   "execution_count": 527,
   "id": "868c278b",
   "metadata": {},
   "outputs": [
    {
     "name": "stdout",
     "output_type": "stream",
     "text": [
      "[1, 2, 3, 4, 5]\n"
     ]
    }
   ],
   "source": [
    "# sort element from the list\n",
    "number=[3,2,1,5,4]\n",
    "number.sort() # you cannot put this directly into print it shows null\n",
    "print(number) "
   ]
  },
  {
   "cell_type": "code",
   "execution_count": 528,
   "id": "f46367c0",
   "metadata": {},
   "outputs": [
    {
     "name": "stdout",
     "output_type": "stream",
     "text": [
      "[4, 5, 1, 2, 3]\n",
      "[5, 4, 3, 2, 1]\n"
     ]
    }
   ],
   "source": [
    "# reverse the element from the list\n",
    "number=[3,2,1,5,4]\n",
    "number_1=[1,2,3,4,5]\n",
    "number.reverse()\n",
    "number_1.reverse()\n",
    "print(number)\n",
    "print(number_1)"
   ]
  },
  {
   "cell_type": "code",
   "execution_count": 529,
   "id": "962020fa",
   "metadata": {},
   "outputs": [
    {
     "name": "stdout",
     "output_type": "stream",
     "text": [
      "[]\n"
     ]
    }
   ],
   "source": [
    "# clear element from the list\n",
    "number.clear()\n",
    "print(number)"
   ]
  },
  {
   "cell_type": "code",
   "execution_count": 530,
   "id": "0b94fceb",
   "metadata": {},
   "outputs": [
    {
     "name": "stdout",
     "output_type": "stream",
     "text": [
      "[1]\n",
      "[1, 2]\n",
      "[1, 2, 3]\n",
      "[1, 2, 3, 4, 5, 6, 7, 8, 9, 10]\n",
      "[1, 3, 5, 7, 9]\n",
      "[10, 9, 8, 7, 6, 5, 4, 3, 2, 1]\n"
     ]
    }
   ],
   "source": [
    "# slicing the list\n",
    "number=[1,2,3,4,5,6,7,8,9,10]\n",
    "print(number[0:1])\n",
    "print(number[0:2])\n",
    "print(number[0:3])\n",
    "print(number[0::1])\n",
    "print(number[0::2])\n",
    "print(number[::-1])"
   ]
  }
 ],
 "metadata": {
  "kernelspec": {
   "display_name": "Python 3 (ipykernel)",
   "language": "python",
   "name": "python3"
  },
  "language_info": {
   "codemirror_mode": {
    "name": "ipython",
    "version": 3
   },
   "file_extension": ".py",
   "mimetype": "text/x-python",
   "name": "python",
   "nbconvert_exporter": "python",
   "pygments_lexer": "ipython3",
   "version": "3.12.4"
  }
 },
 "nbformat": 4,
 "nbformat_minor": 5
}
