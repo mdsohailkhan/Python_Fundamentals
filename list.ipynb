{
 "cells": [
  {
   "cell_type": "code",
   "execution_count": 17,
   "id": "ba1036ea",
   "metadata": {},
   "outputs": [
    {
     "name": "stdout",
     "output_type": "stream",
     "text": [
      "<class 'list'>\n"
     ]
    }
   ],
   "source": [
    "# list are mutable\n",
    "# we can assigned multiple data types in a list\n",
    "\n",
    "\n",
    "# # to know type of list\n",
    "list=[]\n",
    "print(type(list))\n",
    "# tips and tricks \" print(type(name of list))\""
   ]
  },
  {
   "cell_type": "code",
   "execution_count": 18,
   "id": "f1b7897c",
   "metadata": {},
   "outputs": [
    {
     "name": "stdout",
     "output_type": "stream",
     "text": [
      "['krish', 30, 5.8, True]\n"
     ]
    }
   ],
   "source": [
    "# print all element from the list\n",
    "mixed_items=[\"krish\",30,5.8,True]\n",
    "print(mixed_items)\n"
   ]
  },
  {
   "cell_type": "code",
   "execution_count": 19,
   "id": "d3885275",
   "metadata": {},
   "outputs": [
    {
     "name": "stdout",
     "output_type": "stream",
     "text": [
      "<class 'list'>\n",
      "['krish', 30, 5.8, True]\n",
      "['krish', 5.8]\n",
      "[5.8, True]\n"
     ]
    }
   ],
   "source": [
    "\n",
    "#just knowing the type\n",
    "print(type(mixed_items))\n",
    "\n",
    "# another way to print all elements from the list is using index number\n",
    "\n",
    "# you can access list of items or elements from the list using index number\n",
    "# tips and trick \" print(name of a list[index number:])\"\n",
    "print(mixed_items[0:])\n",
    "print(mixed_items[::2])\n",
    "\n",
    "#you print elements from one index to another index let me show you\n",
    "print(mixed_items[2:4])"
   ]
  },
  {
   "cell_type": "code",
   "execution_count": 20,
   "id": "31eb517a",
   "metadata": {},
   "outputs": [
    {
     "name": "stdout",
     "output_type": "stream",
     "text": [
      "krish\n",
      "True\n",
      "5.8\n"
     ]
    }
   ],
   "source": [
    "# you can also print using just using index number\n",
    "# tips and trick \"print(name of list[index number])\n",
    "print(mixed_items[0])\n",
    "print(mixed_items[-1])\n",
    "print(mixed_items[-2])"
   ]
  }
 ],
 "metadata": {
  "kernelspec": {
   "display_name": "Python 3 (ipykernel)",
   "language": "python",
   "name": "python3"
  },
  "language_info": {
   "codemirror_mode": {
    "name": "ipython",
    "version": 3
   },
   "file_extension": ".py",
   "mimetype": "text/x-python",
   "name": "python",
   "nbconvert_exporter": "python",
   "pygments_lexer": "ipython3",
   "version": "3.12.3"
  }
 },
 "nbformat": 4,
 "nbformat_minor": 5
}
