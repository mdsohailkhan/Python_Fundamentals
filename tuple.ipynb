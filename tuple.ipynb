{
 "cells": [
  {
   "cell_type": "code",
   "execution_count": 9,
   "metadata": {},
   "outputs": [
    {
     "name": "stdout",
     "output_type": "stream",
     "text": [
      "<class 'tuple'>\n"
     ]
    }
   ],
   "source": [
    "#tuples are like list but are immutable \n",
    "\n",
    "number=()\n",
    "print(type(number))"
   ]
  },
  {
   "cell_type": "code",
   "execution_count": 10,
   "metadata": {},
   "outputs": [
    {
     "name": "stdout",
     "output_type": "stream",
     "text": [
      "<class 'tuple'>\n"
     ]
    },
    {
     "data": {
      "text/plain": [
       "(1, 2, 3, 4, 5)"
      ]
     },
     "execution_count": 10,
     "metadata": {},
     "output_type": "execute_result"
    }
   ],
   "source": [
    "#convert list to tuple\n",
    "number=tuple([1,2,3,4,5])\n",
    "print(type(number))\n",
    "number\n"
   ]
  },
  {
   "cell_type": "code",
   "execution_count": 11,
   "metadata": {},
   "outputs": [
    {
     "data": {
      "text/plain": [
       "[1, 2, 3, 4, 5]"
      ]
     },
     "execution_count": 11,
     "metadata": {},
     "output_type": "execute_result"
    }
   ],
   "source": [
    "# tuple to list\n",
    "list((1,2,3,4,5))"
   ]
  },
  {
   "cell_type": "code",
   "execution_count": 12,
   "metadata": {},
   "outputs": [
    {
     "name": "stdout",
     "output_type": "stream",
     "text": [
      "<class 'tuple'>\n",
      "(1, 2, 3, 4, 5)\n"
     ]
    }
   ],
   "source": [
    "numbers=(1,2,3,4,5)\n",
    "print(type(numbers))\n",
    "print(numbers)\n"
   ]
  },
  {
   "cell_type": "code",
   "execution_count": 13,
   "metadata": {},
   "outputs": [
    {
     "name": "stdout",
     "output_type": "stream",
     "text": [
      "<class 'tuple'>\n",
      "('krish', 30, 5.8)\n"
     ]
    }
   ],
   "source": [
    "mixed_tuples=(\"krish\",30,5.8)\n",
    "print(type(mixed_tuples))\n",
    "print(mixed_tuples)"
   ]
  },
  {
   "cell_type": "code",
   "execution_count": 14,
   "metadata": {},
   "outputs": [
    {
     "name": "stdout",
     "output_type": "stream",
     "text": [
      "(1, 2, 3, 4, 5, 'krish', 30, 5.8)\n",
      "(1, 2, 3, 4, 5, 'krish', 30, 5.8)\n"
     ]
    }
   ],
   "source": [
    "# concatenation is nothing but adding\n",
    "concatenation=numbers+mixed_tuples\n",
    "print(concatenation)\n",
    "\n",
    "numbers*3\n",
    "print(concatenation)\n"
   ]
  },
  {
   "cell_type": "code",
   "execution_count": 21,
   "metadata": {},
   "outputs": [
    {
     "name": "stdout",
     "output_type": "stream",
     "text": [
      "[1, 200, 3, 4, 5]\n"
     ]
    },
    {
     "ename": "TypeError",
     "evalue": "'tuple' object does not support item assignment",
     "output_type": "error",
     "traceback": [
      "\u001b[1;31m---------------------------------------------------------------------------\u001b[0m",
      "\u001b[1;31mTypeError\u001b[0m                                 Traceback (most recent call last)",
      "Cell \u001b[1;32mIn[21], line 7\u001b[0m\n\u001b[0;32m      5\u001b[0m \u001b[38;5;66;03m# tuples are immutable look at this example\u001b[39;00m\n\u001b[0;32m      6\u001b[0m numbers\u001b[38;5;241m=\u001b[39m(\u001b[38;5;241m1\u001b[39m,\u001b[38;5;241m2\u001b[39m,\u001b[38;5;241m3\u001b[39m,\u001b[38;5;241m4\u001b[39m,\u001b[38;5;241m5\u001b[39m)\n\u001b[1;32m----> 7\u001b[0m numbers[\u001b[38;5;241m1\u001b[39m]\u001b[38;5;241m=\u001b[39m\u001b[38;5;241m200\u001b[39m\n\u001b[0;32m      8\u001b[0m \u001b[38;5;28mprint\u001b[39m(numbers)\n\u001b[0;32m     10\u001b[0m \u001b[38;5;124;03m\"\"\"\"\"\"\u001b[39;00m\n",
      "\u001b[1;31mTypeError\u001b[0m: 'tuple' object does not support item assignment"
     ]
    }
   ],
   "source": [
    "# example list are mutable ie changed\n",
    "numbers=[1,2,3,4,5]\n",
    "numbers[1]=200\n",
    "print(numbers)\n",
    "# tuples are immutable look at this example\n",
    "numbers=(1,2,3,4,5)\n",
    "numbers[1]=200\n",
    "print(numbers)\n",
    "\n",
    "# when you run you will see this output down below\n",
    "\n",
    "\"\"\"\n",
    "---------------------------------------------------------------------------\n",
    "TypeError                                 Traceback (most recent call last)\n",
    "Cell In[20], line 7\n",
    "      5 # tuples are immutable look at this example\n",
    "      6 numbers=(1,2,3,4,5)\n",
    "----> 7 numbers[1]=200\n",
    "      8 print(numbers)\n",
    "\n",
    "TypeError: 'tuple' object does not support item assignment\n",
    "\"\"\""
   ]
  },
  {
   "cell_type": "code",
   "execution_count": 22,
   "metadata": {},
   "outputs": [
    {
     "data": {
      "text/plain": [
       "(1, 2, 3, 4, 5)"
      ]
     },
     "execution_count": 22,
     "metadata": {},
     "output_type": "execute_result"
    }
   ],
   "source": [
    "numbers"
   ]
  },
  {
   "cell_type": "code",
   "execution_count": 25,
   "metadata": {},
   "outputs": [
    {
     "name": "stdout",
     "output_type": "stream",
     "text": [
      "1\n",
      "3\n"
     ]
    }
   ],
   "source": [
    "# count and index function\n",
    "print(numbers.count(1))# count total number of same element \n",
    "print(numbers.index(4))# return the index value ie n-1"
   ]
  },
  {
   "cell_type": "code",
   "execution_count": 26,
   "metadata": {},
   "outputs": [
    {
     "name": "stdout",
     "output_type": "stream",
     "text": [
      "('ninja', 34, 6.1)\n"
     ]
    }
   ],
   "source": [
    "# packing tuple\n",
    "packing_tuple=\"ninja\",34,6.1\n",
    "print(packing_tuple)"
   ]
  },
  {
   "cell_type": "code",
   "execution_count": 32,
   "metadata": {},
   "outputs": [
    {
     "name": "stdout",
     "output_type": "stream",
     "text": [
      "ninja\n",
      "34\n",
      "6.1\n"
     ]
    }
   ],
   "source": [
    "# unpacking tuple\n",
    "a,b,c=packing_tuple\n",
    "print(a)\n",
    "print(b)\n",
    "print(c)"
   ]
  },
  {
   "cell_type": "code",
   "execution_count": 37,
   "metadata": {},
   "outputs": [
    {
     "name": "stdout",
     "output_type": "stream",
     "text": [
      "(1, 2, 3, 4, 5, 6, 7, 8, 9, 10)\n",
      "1\n",
      "[2, 3, 4, 5, 6, 7, 8, 9]\n",
      "10\n"
     ]
    }
   ],
   "source": [
    "# new method for unpacking\n",
    "# now i will pack the tuple\n",
    "pack_tuple=1,2,3,4,5,6,7,8,9,10\n",
    "print(pack_tuple)\n",
    "\n",
    "# now i will unnpack with new method\n",
    "\n",
    "first,*middle,last=pack_tuple\n",
    "print(first)\n",
    "print(middle)\n",
    "print(last)"
   ]
  },
  {
   "cell_type": "code",
   "execution_count": 49,
   "metadata": {},
   "outputs": [
    {
     "name": "stdout",
     "output_type": "stream",
     "text": [
      "[[1, 2, 3], ['krish', 24, 5.8], [True, 786]]\n",
      "[1, 2, 3]\n",
      "['krish', 24, 5.8]\n",
      "[True, 786]\n",
      "[[1, 2, 3], ['krish', 24, 5.8], [True, 786]]\n",
      "krish\n",
      "['krish', 24, 5.8]\n"
     ]
    }
   ],
   "source": [
    "# nested list example\n",
    "nested_lst=[[1,2,3],[\"krish\",24,5.8],[True,786]]\n",
    "print(nested_lst)\n",
    "print(nested_lst[0])\n",
    "print(nested_lst[1])\n",
    "print(nested_lst[2])\n",
    "\n",
    "# performing slicing operation\n",
    "print(nested_lst[0:])\n",
    "\n",
    "# performing slicing operation within the list\n",
    "print(nested_lst[1][0])\n",
    "print(nested_lst[1][0:])"
   ]
  },
  {
   "cell_type": "code",
   "execution_count": 52,
   "metadata": {},
   "outputs": [
    {
     "name": "stdout",
     "output_type": "stream",
     "text": [
      "[1, 2, 3]\n",
      "['krish', 24, 5.8]\n",
      "[True, 786]\n"
     ]
    }
   ],
   "source": [
    "# iterating the list\n",
    "nested_lst\n",
    "for i in nested_lst:\n",
    "    print(i)"
   ]
  },
  {
   "cell_type": "code",
   "execution_count": 56,
   "metadata": {},
   "outputs": [
    {
     "name": "stdout",
     "output_type": "stream",
     "text": [
      "<class 'tuple'>\n",
      "(1, 2, 3)\n",
      "(1, 2, 3)\n",
      "('krish', 24, 5.8)\n",
      "(True, 786)\n"
     ]
    }
   ],
   "source": [
    "# we can perform all above operation in tuple as well\n",
    "# now i am creating a nested tuple and iterating  tuple\n",
    "nested_tuple=((1,2,3),(\"krish\",24,5.8),(True,786))\n",
    "print(type(nested_tuple))\n",
    "\n",
    "print(nested_tuple[0])\n",
    "\n",
    "for i in nested_tuple:\n",
    "    print(i)"
   ]
  },
  {
   "cell_type": "code",
   "execution_count": 57,
   "metadata": {},
   "outputs": [
    {
     "name": "stdout",
     "output_type": "stream",
     "text": [
      "[3, 4, 5]\n",
      "(1, 2, [3, 4, 5, 6])\n"
     ]
    }
   ],
   "source": [
    "# Tuple containing a list\n",
    "my_tuple = (1, 2, [3, 4, 5])\n",
    "\n",
    "# Accessing the list inside the tuple\n",
    "print(my_tuple[2])  # Output: [3, 4, 5]\n",
    "\n",
    "# Modifying the list inside the tuple\n",
    "my_tuple[2].append(6)\n",
    "print(my_tuple)  # Output: (1, 2, [3, 4, 5, 6])\n"
   ]
  },
  {
   "cell_type": "code",
   "execution_count": null,
   "metadata": {},
   "outputs": [],
   "source": [
    "# List containing a tuple\n",
    "my_list = [1, 2, (3, 4, 5)]\n",
    "\n",
    "# Accessing the tuple inside the list\n",
    "print(my_list[2])  # Output: (3, 4, 5)\n",
    "\n",
    "# Accessing an element within the tuple\n",
    "print(my_list[2][1])  # Output: 4\n"
   ]
  },
  {
   "cell_type": "code",
   "execution_count": null,
   "metadata": {},
   "outputs": [],
   "source": [
    "# Conclusion\n",
    "# Tuples are versatile and useful in many real-world scenarios where an immutable and ordered collection of items is required. They are commonly used in data structures, function arguments and return values, and as dictionary keys. Understanding how to leverage tuples effectively can improve the efficiency and readability of your Python code."
   ]
  }
 ],
 "metadata": {
  "kernelspec": {
   "display_name": "base",
   "language": "python",
   "name": "python3"
  },
  "language_info": {
   "codemirror_mode": {
    "name": "ipython",
    "version": 3
   },
   "file_extension": ".py",
   "mimetype": "text/x-python",
   "name": "python",
   "nbconvert_exporter": "python",
   "pygments_lexer": "ipython3",
   "version": "3.12.4"
  }
 },
 "nbformat": 4,
 "nbformat_minor": 2
}
